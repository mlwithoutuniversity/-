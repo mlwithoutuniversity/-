{
 "cells": [
  {
   "cell_type": "code",
   "execution_count": 11,
   "id": "c18f059a",
   "metadata": {},
   "outputs": [],
   "source": [
    "import pandas as pd\n",
    "import numpy as np\n",
    "import seaborn as sns"
   ]
  },
  {
   "cell_type": "code",
   "execution_count": 12,
   "id": "7057e038",
   "metadata": {},
   "outputs": [],
   "source": [
    "sns.set(rc={'figure.figsize':(11.7,8.27)})"
   ]
  },
  {
   "cell_type": "code",
   "execution_count": 13,
   "id": "82214cb5",
   "metadata": {},
   "outputs": [],
   "source": [
    "import random"
   ]
  },
  {
   "cell_type": "markdown",
   "id": "ba0aa879",
   "metadata": {},
   "source": [
    "# Работа с вопросом"
   ]
  },
  {
   "cell_type": "markdown",
   "id": "81163d3b",
   "metadata": {},
   "source": [
    "**Вопрос:** станет ли лучше от использования нового алгоритма рекомендаций?"
   ]
  },
  {
   "cell_type": "markdown",
   "id": "61cbcd5a",
   "metadata": {},
   "source": [
    "## Что значит, что стало «лучше»"
   ]
  },
  {
   "cell_type": "markdown",
   "id": "4a2fe462",
   "metadata": {},
   "source": [
    "1. Пользователи стали покупать больше товаров.\n",
    "2. Пользователи стали проводить в приложении больше времени.\n",
    "3. Удовлетворённость пользователей от рекомендаций выросла.\n",
    "4. ..."
   ]
  },
  {
   "cell_type": "markdown",
   "id": "15a09c59",
   "metadata": {},
   "source": [
    "**Переформулированный вопрос:** приведёт ли внедрение новой системы рекомендаций к увеличению выручки?"
   ]
  },
  {
   "cell_type": "markdown",
   "id": "a8cf98ac",
   "metadata": {},
   "source": [
    "## Как оценить, насколько больше денег принесли покупки"
   ]
  },
  {
   "cell_type": "markdown",
   "id": "809bf602",
   "metadata": {},
   "source": [
    "### Что считать"
   ]
  },
  {
   "cell_type": "markdown",
   "id": "915e44cb",
   "metadata": {},
   "source": [
    "1. Суммарная выручка в группе. Так можно, но мы с вами так не умеем: умеем работать со средними значениями (t-тест).\n",
    "2. Средний чек. Проблема: при увеличении (или уменьшении среднего чека) выручка на самом деле может уменьшиться (или увеличиться).\n",
    "3. Средняя выручка на одного платящего пользователя. Плохо: число платящих пользователей могло измениться в результате нашего изменения (причём не обязательно в интересную нам сторону). Можно, конечно, следить за несколькими метриками при принятии решения, и это нормальная стратегия, но для нашего случая сложная.\n",
    "4. Средняя выручка на одного пользователя. Наш выбор, потому что при равенстве контрольной и экспериментальной групп эквивалентна суммарной выручке.\n",
    "\n",
    "Всё остальное тоже можно посчитать для того, чтобы детальнее понять, за счёт чего достигается положительный эффект (если достигается), или для того, чтобы понять, что же пошло не так..."
   ]
  },
  {
   "cell_type": "markdown",
   "id": "2853b3a9",
   "metadata": {},
   "source": [
    "# Предварительное исследование данных"
   ]
  },
  {
   "cell_type": "code",
   "execution_count": 29,
   "id": "adb40412",
   "metadata": {},
   "outputs": [],
   "source": [
    "user = pd.read_csv('user.csv')\n",
    "user_ab_group = pd.read_csv('user_ab_group.csv')\n",
    "good = pd.read_csv('good.csv')\n",
    "user_purchase = pd.read_csv('user_purchase.csv')\n",
    "purchase_good = pd.read_csv('purchase_good.csv')\n",
    "#считываем всевозможные данные\n"
   ]
  },
  {
   "cell_type": "code",
   "execution_count": 21,
   "id": "73ceaff4-41d7-4456-b35a-04f069a2ebc6",
   "metadata": {},
   "outputs": [
    {
     "data": {
      "text/html": [
       "<div>\n",
       "<style scoped>\n",
       "    .dataframe tbody tr th:only-of-type {\n",
       "        vertical-align: middle;\n",
       "    }\n",
       "\n",
       "    .dataframe tbody tr th {\n",
       "        vertical-align: top;\n",
       "    }\n",
       "\n",
       "    .dataframe thead th {\n",
       "        text-align: right;\n",
       "    }\n",
       "</style>\n",
       "<table border=\"1\" class=\"dataframe\">\n",
       "  <thead>\n",
       "    <tr style=\"text-align: right;\">\n",
       "      <th></th>\n",
       "      <th>user_id</th>\n",
       "      <th>gender</th>\n",
       "      <th>age</th>\n",
       "      <th>region</th>\n",
       "    </tr>\n",
       "  </thead>\n",
       "  <tbody>\n",
       "    <tr>\n",
       "      <th>0</th>\n",
       "      <td>1</td>\n",
       "      <td>Ж</td>\n",
       "      <td>23</td>\n",
       "      <td>Краснодарский край</td>\n",
       "    </tr>\n",
       "    <tr>\n",
       "      <th>1</th>\n",
       "      <td>2</td>\n",
       "      <td>Ж</td>\n",
       "      <td>43</td>\n",
       "      <td>Краснодарский край</td>\n",
       "    </tr>\n",
       "    <tr>\n",
       "      <th>2</th>\n",
       "      <td>3</td>\n",
       "      <td>М</td>\n",
       "      <td>36</td>\n",
       "      <td>Краснодарский край</td>\n",
       "    </tr>\n",
       "    <tr>\n",
       "      <th>3</th>\n",
       "      <td>4</td>\n",
       "      <td>Ж</td>\n",
       "      <td>39</td>\n",
       "      <td>Краснодарский край</td>\n",
       "    </tr>\n",
       "    <tr>\n",
       "      <th>4</th>\n",
       "      <td>5</td>\n",
       "      <td>М</td>\n",
       "      <td>43</td>\n",
       "      <td>Иркутская область</td>\n",
       "    </tr>\n",
       "    <tr>\n",
       "      <th>...</th>\n",
       "      <td>...</td>\n",
       "      <td>...</td>\n",
       "      <td>...</td>\n",
       "      <td>...</td>\n",
       "    </tr>\n",
       "    <tr>\n",
       "      <th>14995</th>\n",
       "      <td>14996</td>\n",
       "      <td>М</td>\n",
       "      <td>41</td>\n",
       "      <td>Нижегородская область</td>\n",
       "    </tr>\n",
       "    <tr>\n",
       "      <th>14996</th>\n",
       "      <td>14997</td>\n",
       "      <td>Ж</td>\n",
       "      <td>30</td>\n",
       "      <td>Астраханская область</td>\n",
       "    </tr>\n",
       "    <tr>\n",
       "      <th>14997</th>\n",
       "      <td>14998</td>\n",
       "      <td>М</td>\n",
       "      <td>26</td>\n",
       "      <td>Краснодарский край</td>\n",
       "    </tr>\n",
       "    <tr>\n",
       "      <th>14998</th>\n",
       "      <td>14999</td>\n",
       "      <td>М</td>\n",
       "      <td>36</td>\n",
       "      <td>Оренбургская область</td>\n",
       "    </tr>\n",
       "    <tr>\n",
       "      <th>14999</th>\n",
       "      <td>15000</td>\n",
       "      <td>Ж</td>\n",
       "      <td>34</td>\n",
       "      <td>Республика Адыгея</td>\n",
       "    </tr>\n",
       "  </tbody>\n",
       "</table>\n",
       "<p>15000 rows × 4 columns</p>\n",
       "</div>"
      ],
      "text/plain": [
       "       user_id gender  age                 region\n",
       "0            1      Ж   23     Краснодарский край\n",
       "1            2      Ж   43     Краснодарский край\n",
       "2            3      М   36     Краснодарский край\n",
       "3            4      Ж   39     Краснодарский край\n",
       "4            5      М   43      Иркутская область\n",
       "...        ...    ...  ...                    ...\n",
       "14995    14996      М   41  Нижегородская область\n",
       "14996    14997      Ж   30   Астраханская область\n",
       "14997    14998      М   26     Краснодарский край\n",
       "14998    14999      М   36   Оренбургская область\n",
       "14999    15000      Ж   34      Республика Адыгея\n",
       "\n",
       "[15000 rows x 4 columns]"
      ]
     },
     "execution_count": 21,
     "metadata": {},
     "output_type": "execute_result"
    }
   ],
   "source": [
    "user \n",
    "#таблица в которой есть информачия о каждом пользователе\n",
    "#нет пропусков (можно проверить через .isna())"
   ]
  },
  {
   "cell_type": "markdown",
   "id": "3eac32c5",
   "metadata": {},
   "source": [
    "### Описательные статистики по пользователям"
   ]
  },
  {
   "cell_type": "code",
   "execution_count": 10,
   "id": "500581dd",
   "metadata": {},
   "outputs": [
    {
     "data": {
      "text/html": [
       "<div>\n",
       "<style scoped>\n",
       "    .dataframe tbody tr th:only-of-type {\n",
       "        vertical-align: middle;\n",
       "    }\n",
       "\n",
       "    .dataframe tbody tr th {\n",
       "        vertical-align: top;\n",
       "    }\n",
       "\n",
       "    .dataframe thead th {\n",
       "        text-align: right;\n",
       "    }\n",
       "</style>\n",
       "<table border=\"1\" class=\"dataframe\">\n",
       "  <thead>\n",
       "    <tr style=\"text-align: right;\">\n",
       "      <th></th>\n",
       "      <th>user_id</th>\n",
       "      <th>gender</th>\n",
       "      <th>age</th>\n",
       "      <th>region</th>\n",
       "    </tr>\n",
       "  </thead>\n",
       "  <tbody>\n",
       "    <tr>\n",
       "      <th>0</th>\n",
       "      <td>1</td>\n",
       "      <td>Ж</td>\n",
       "      <td>23</td>\n",
       "      <td>Краснодарский край</td>\n",
       "    </tr>\n",
       "    <tr>\n",
       "      <th>1</th>\n",
       "      <td>2</td>\n",
       "      <td>Ж</td>\n",
       "      <td>43</td>\n",
       "      <td>Краснодарский край</td>\n",
       "    </tr>\n",
       "    <tr>\n",
       "      <th>2</th>\n",
       "      <td>3</td>\n",
       "      <td>М</td>\n",
       "      <td>36</td>\n",
       "      <td>Краснодарский край</td>\n",
       "    </tr>\n",
       "    <tr>\n",
       "      <th>3</th>\n",
       "      <td>4</td>\n",
       "      <td>Ж</td>\n",
       "      <td>39</td>\n",
       "      <td>Краснодарский край</td>\n",
       "    </tr>\n",
       "    <tr>\n",
       "      <th>4</th>\n",
       "      <td>5</td>\n",
       "      <td>М</td>\n",
       "      <td>43</td>\n",
       "      <td>Иркутская область</td>\n",
       "    </tr>\n",
       "    <tr>\n",
       "      <th>...</th>\n",
       "      <td>...</td>\n",
       "      <td>...</td>\n",
       "      <td>...</td>\n",
       "      <td>...</td>\n",
       "    </tr>\n",
       "    <tr>\n",
       "      <th>14995</th>\n",
       "      <td>14996</td>\n",
       "      <td>М</td>\n",
       "      <td>41</td>\n",
       "      <td>Нижегородская область</td>\n",
       "    </tr>\n",
       "    <tr>\n",
       "      <th>14996</th>\n",
       "      <td>14997</td>\n",
       "      <td>Ж</td>\n",
       "      <td>30</td>\n",
       "      <td>Астраханская область</td>\n",
       "    </tr>\n",
       "    <tr>\n",
       "      <th>14997</th>\n",
       "      <td>14998</td>\n",
       "      <td>М</td>\n",
       "      <td>26</td>\n",
       "      <td>Краснодарский край</td>\n",
       "    </tr>\n",
       "    <tr>\n",
       "      <th>14998</th>\n",
       "      <td>14999</td>\n",
       "      <td>М</td>\n",
       "      <td>36</td>\n",
       "      <td>Оренбургская область</td>\n",
       "    </tr>\n",
       "    <tr>\n",
       "      <th>14999</th>\n",
       "      <td>15000</td>\n",
       "      <td>Ж</td>\n",
       "      <td>34</td>\n",
       "      <td>Республика Адыгея</td>\n",
       "    </tr>\n",
       "  </tbody>\n",
       "</table>\n",
       "<p>15000 rows × 4 columns</p>\n",
       "</div>"
      ],
      "text/plain": [
       "       user_id gender  age                 region\n",
       "0            1      Ж   23     Краснодарский край\n",
       "1            2      Ж   43     Краснодарский край\n",
       "2            3      М   36     Краснодарский край\n",
       "3            4      Ж   39     Краснодарский край\n",
       "4            5      М   43      Иркутская область\n",
       "...        ...    ...  ...                    ...\n",
       "14995    14996      М   41  Нижегородская область\n",
       "14996    14997      Ж   30   Астраханская область\n",
       "14997    14998      М   26     Краснодарский край\n",
       "14998    14999      М   36   Оренбургская область\n",
       "14999    15000      Ж   34      Республика Адыгея\n",
       "\n",
       "[15000 rows x 4 columns]"
      ]
     },
     "execution_count": 10,
     "metadata": {},
     "output_type": "execute_result"
    }
   ],
   "source": [
    "user"
   ]
  },
  {
   "cell_type": "code",
   "execution_count": 111,
   "id": "f4f9b1a8",
   "metadata": {},
   "outputs": [
    {
     "data": {
      "text/html": [
       "<div>\n",
       "<style scoped>\n",
       "    .dataframe tbody tr th:only-of-type {\n",
       "        vertical-align: middle;\n",
       "    }\n",
       "\n",
       "    .dataframe tbody tr th {\n",
       "        vertical-align: top;\n",
       "    }\n",
       "\n",
       "    .dataframe thead th {\n",
       "        text-align: right;\n",
       "    }\n",
       "</style>\n",
       "<table border=\"1\" class=\"dataframe\">\n",
       "  <thead>\n",
       "    <tr style=\"text-align: right;\">\n",
       "      <th></th>\n",
       "      <th>user_id</th>\n",
       "      <th>group</th>\n",
       "    </tr>\n",
       "  </thead>\n",
       "  <tbody>\n",
       "    <tr>\n",
       "      <th>0</th>\n",
       "      <td>5034</td>\n",
       "      <td>treatment</td>\n",
       "    </tr>\n",
       "    <tr>\n",
       "      <th>1</th>\n",
       "      <td>4725</td>\n",
       "      <td>treatment</td>\n",
       "    </tr>\n",
       "    <tr>\n",
       "      <th>2</th>\n",
       "      <td>911</td>\n",
       "      <td>treatment</td>\n",
       "    </tr>\n",
       "    <tr>\n",
       "      <th>3</th>\n",
       "      <td>13267</td>\n",
       "      <td>control</td>\n",
       "    </tr>\n",
       "    <tr>\n",
       "      <th>4</th>\n",
       "      <td>5636</td>\n",
       "      <td>control</td>\n",
       "    </tr>\n",
       "    <tr>\n",
       "      <th>...</th>\n",
       "      <td>...</td>\n",
       "      <td>...</td>\n",
       "    </tr>\n",
       "    <tr>\n",
       "      <th>11910</th>\n",
       "      <td>7599</td>\n",
       "      <td>control</td>\n",
       "    </tr>\n",
       "    <tr>\n",
       "      <th>11911</th>\n",
       "      <td>11476</td>\n",
       "      <td>treatment</td>\n",
       "    </tr>\n",
       "    <tr>\n",
       "      <th>11912</th>\n",
       "      <td>805</td>\n",
       "      <td>treatment</td>\n",
       "    </tr>\n",
       "    <tr>\n",
       "      <th>11913</th>\n",
       "      <td>1743</td>\n",
       "      <td>treatment</td>\n",
       "    </tr>\n",
       "    <tr>\n",
       "      <th>11914</th>\n",
       "      <td>3400</td>\n",
       "      <td>control</td>\n",
       "    </tr>\n",
       "  </tbody>\n",
       "</table>\n",
       "<p>11915 rows × 2 columns</p>\n",
       "</div>"
      ],
      "text/plain": [
       "       user_id      group\n",
       "0         5034  treatment\n",
       "1         4725  treatment\n",
       "2          911  treatment\n",
       "3        13267    control\n",
       "4         5636    control\n",
       "...        ...        ...\n",
       "11910     7599    control\n",
       "11911    11476  treatment\n",
       "11912      805  treatment\n",
       "11913     1743  treatment\n",
       "11914     3400    control\n",
       "\n",
       "[11915 rows x 2 columns]"
      ]
     },
     "execution_count": 111,
     "metadata": {},
     "output_type": "execute_result"
    }
   ],
   "source": [
    "user_ab_group\n",
    "#всего 11915 => в выборке учавстуют не все \n",
    "#control - A группа (контрольная)\n",
    "#treatment - B группа (эксперимантальная)\n"
   ]
  },
  {
   "cell_type": "code",
   "execution_count": 6,
   "id": "5dfdc6ea",
   "metadata": {},
   "outputs": [
    {
     "data": {
      "text/plain": [
       "<Axes: xlabel='age', ylabel='Count'>"
      ]
     },
     "execution_count": 6,
     "metadata": {},
     "output_type": "execute_result"
    },
    {
     "data": {
      "image/png": "[encoded data removed]",
      "text/plain": [
       "<Figure size 1170x827 with 1 Axes>"
      ]
     },
     "metadata": {},
     "output_type": "display_data"
    }
   ],
   "source": [
    "sns.histplot(user['age'])\n",
    "#график распределения возраста\n",
    "#распределение нормальное\n",
    "#ср знач 30-40"
   ]
  },
  {
   "cell_type": "code",
   "execution_count": 7,
   "id": "4bcdb92c",
   "metadata": {},
   "outputs": [
    {
     "data": {
      "text/plain": [
       "Ж    7636\n",
       "М    7364\n",
       "Name: gender, dtype: int64"
      ]
     },
     "execution_count": 7,
     "metadata": {},
     "output_type": "execute_result"
    }
   ],
   "source": [
    "user['gender'].value_counts()\n",
    "#функция .value_counts() считает сколько каждый элемент и series'а встречался в нем (частотный словарь)\n",
    "#почти равное распределение М и Ж"
   ]
  },
  {
   "cell_type": "code",
   "execution_count": 8,
   "id": "0658975a",
   "metadata": {},
   "outputs": [
    {
     "data": {
      "text/plain": [
       "Краснодарский край       4674\n",
       "Санкт-Петербург          3474\n",
       "Иркутская область        2222\n",
       "Нижегородская область    2036\n",
       "Оренбургская область     1559\n",
       "Астраханская область      735\n",
       "Республика Адыгея         300\n",
       "Name: region, dtype: int64"
      ]
     },
     "execution_count": 8,
     "metadata": {},
     "output_type": "execute_result"
    }
   ],
   "source": [
    "user['region'].value_counts()\n",
    "#частотный словарь для региона"
   ]
  },
  {
   "cell_type": "markdown",
   "id": "757d9710",
   "metadata": {},
   "source": [
    "### Описательные статистики по покупкам"
   ]
  },
  {
   "cell_type": "code",
   "execution_count": 9,
   "id": "97d76a9b",
   "metadata": {},
   "outputs": [
    {
     "data": {
      "text/html": [
       "<div>\n",
       "<style scoped>\n",
       "    .dataframe tbody tr th:only-of-type {\n",
       "        vertical-align: middle;\n",
       "    }\n",
       "\n",
       "    .dataframe tbody tr th {\n",
       "        vertical-align: top;\n",
       "    }\n",
       "\n",
       "    .dataframe thead th {\n",
       "        text-align: right;\n",
       "    }\n",
       "</style>\n",
       "<table border=\"1\" class=\"dataframe\">\n",
       "  <thead>\n",
       "    <tr style=\"text-align: right;\">\n",
       "      <th></th>\n",
       "      <th>id</th>\n",
       "      <th>good_name</th>\n",
       "      <th>price_per_unit</th>\n",
       "    </tr>\n",
       "  </thead>\n",
       "  <tbody>\n",
       "    <tr>\n",
       "      <th>0</th>\n",
       "      <td>1</td>\n",
       "      <td>Органический авокадо</td>\n",
       "      <td>336</td>\n",
       "    </tr>\n",
       "    <tr>\n",
       "      <th>1</th>\n",
       "      <td>2</td>\n",
       "      <td>Льняные семена</td>\n",
       "      <td>796</td>\n",
       "    </tr>\n",
       "    <tr>\n",
       "      <th>2</th>\n",
       "      <td>3</td>\n",
       "      <td>Кокосовое масло Extra Virgin</td>\n",
       "      <td>558</td>\n",
       "    </tr>\n",
       "    <tr>\n",
       "      <th>3</th>\n",
       "      <td>4</td>\n",
       "      <td>Гречка цельнозерновая</td>\n",
       "      <td>484</td>\n",
       "    </tr>\n",
       "    <tr>\n",
       "      <th>4</th>\n",
       "      <td>5</td>\n",
       "      <td>Лосось дикого копчения</td>\n",
       "      <td>480</td>\n",
       "    </tr>\n",
       "    <tr>\n",
       "      <th>...</th>\n",
       "      <td>...</td>\n",
       "      <td>...</td>\n",
       "      <td>...</td>\n",
       "    </tr>\n",
       "    <tr>\n",
       "      <th>95</th>\n",
       "      <td>96</td>\n",
       "      <td>Органическая кокосовая мука</td>\n",
       "      <td>616</td>\n",
       "    </tr>\n",
       "    <tr>\n",
       "      <th>96</th>\n",
       "      <td>97</td>\n",
       "      <td>Семена чиа в меде</td>\n",
       "      <td>379</td>\n",
       "    </tr>\n",
       "    <tr>\n",
       "      <th>97</th>\n",
       "      <td>98</td>\n",
       "      <td>Кардамон органический</td>\n",
       "      <td>459</td>\n",
       "    </tr>\n",
       "    <tr>\n",
       "      <th>98</th>\n",
       "      <td>99</td>\n",
       "      <td>Куркума в порошке</td>\n",
       "      <td>647</td>\n",
       "    </tr>\n",
       "    <tr>\n",
       "      <th>99</th>\n",
       "      <td>100</td>\n",
       "      <td>Белый чай в листьях</td>\n",
       "      <td>472</td>\n",
       "    </tr>\n",
       "  </tbody>\n",
       "</table>\n",
       "<p>100 rows × 3 columns</p>\n",
       "</div>"
      ],
      "text/plain": [
       "     id                     good_name  price_per_unit\n",
       "0     1          Органический авокадо             336\n",
       "1     2                Льняные семена             796\n",
       "2     3  Кокосовое масло Extra Virgin             558\n",
       "3     4         Гречка цельнозерновая             484\n",
       "4     5        Лосось дикого копчения             480\n",
       "..  ...                           ...             ...\n",
       "95   96   Органическая кокосовая мука             616\n",
       "96   97             Семена чиа в меде             379\n",
       "97   98         Кардамон органический             459\n",
       "98   99             Куркума в порошке             647\n",
       "99  100           Белый чай в листьях             472\n",
       "\n",
       "[100 rows x 3 columns]"
      ]
     },
     "execution_count": 9,
     "metadata": {},
     "output_type": "execute_result"
    }
   ],
   "source": [
    "good\n",
    "#таблица содержит id - id товара"
   ]
  },
  {
   "cell_type": "code",
   "execution_count": 113,
   "id": "c733942c",
   "metadata": {},
   "outputs": [
    {
     "data": {
      "text/html": [
       "<div>\n",
       "<style scoped>\n",
       "    .dataframe tbody tr th:only-of-type {\n",
       "        vertical-align: middle;\n",
       "    }\n",
       "\n",
       "    .dataframe tbody tr th {\n",
       "        vertical-align: top;\n",
       "    }\n",
       "\n",
       "    .dataframe thead th {\n",
       "        text-align: right;\n",
       "    }\n",
       "</style>\n",
       "<table border=\"1\" class=\"dataframe\">\n",
       "  <thead>\n",
       "    <tr style=\"text-align: right;\">\n",
       "      <th></th>\n",
       "      <th>purchase_id</th>\n",
       "      <th>good_id</th>\n",
       "      <th>amount</th>\n",
       "      <th>was_in_recommended_goods</th>\n",
       "    </tr>\n",
       "  </thead>\n",
       "  <tbody>\n",
       "    <tr>\n",
       "      <th>0</th>\n",
       "      <td>15495</td>\n",
       "      <td>34</td>\n",
       "      <td>2</td>\n",
       "      <td>False</td>\n",
       "    </tr>\n",
       "    <tr>\n",
       "      <th>1</th>\n",
       "      <td>42640</td>\n",
       "      <td>48</td>\n",
       "      <td>1</td>\n",
       "      <td>False</td>\n",
       "    </tr>\n",
       "    <tr>\n",
       "      <th>2</th>\n",
       "      <td>42640</td>\n",
       "      <td>36</td>\n",
       "      <td>1</td>\n",
       "      <td>False</td>\n",
       "    </tr>\n",
       "    <tr>\n",
       "      <th>3</th>\n",
       "      <td>42640</td>\n",
       "      <td>12</td>\n",
       "      <td>2</td>\n",
       "      <td>True</td>\n",
       "    </tr>\n",
       "    <tr>\n",
       "      <th>4</th>\n",
       "      <td>42640</td>\n",
       "      <td>35</td>\n",
       "      <td>1</td>\n",
       "      <td>True</td>\n",
       "    </tr>\n",
       "    <tr>\n",
       "      <th>...</th>\n",
       "      <td>...</td>\n",
       "      <td>...</td>\n",
       "      <td>...</td>\n",
       "      <td>...</td>\n",
       "    </tr>\n",
       "    <tr>\n",
       "      <th>352052</th>\n",
       "      <td>53057</td>\n",
       "      <td>54</td>\n",
       "      <td>1</td>\n",
       "      <td>False</td>\n",
       "    </tr>\n",
       "    <tr>\n",
       "      <th>352053</th>\n",
       "      <td>72053</td>\n",
       "      <td>37</td>\n",
       "      <td>1</td>\n",
       "      <td>False</td>\n",
       "    </tr>\n",
       "    <tr>\n",
       "      <th>352054</th>\n",
       "      <td>72053</td>\n",
       "      <td>7</td>\n",
       "      <td>1</td>\n",
       "      <td>False</td>\n",
       "    </tr>\n",
       "    <tr>\n",
       "      <th>352055</th>\n",
       "      <td>72053</td>\n",
       "      <td>24</td>\n",
       "      <td>1</td>\n",
       "      <td>True</td>\n",
       "    </tr>\n",
       "    <tr>\n",
       "      <th>352056</th>\n",
       "      <td>72053</td>\n",
       "      <td>50</td>\n",
       "      <td>1</td>\n",
       "      <td>False</td>\n",
       "    </tr>\n",
       "  </tbody>\n",
       "</table>\n",
       "<p>352057 rows × 4 columns</p>\n",
       "</div>"
      ],
      "text/plain": [
       "        purchase_id  good_id  amount  was_in_recommended_goods\n",
       "0             15495       34       2                     False\n",
       "1             42640       48       1                     False\n",
       "2             42640       36       1                     False\n",
       "3             42640       12       2                      True\n",
       "4             42640       35       1                      True\n",
       "...             ...      ...     ...                       ...\n",
       "352052        53057       54       1                     False\n",
       "352053        72053       37       1                     False\n",
       "352054        72053        7       1                     False\n",
       "352055        72053       24       1                      True\n",
       "352056        72053       50       1                     False\n",
       "\n",
       "[352057 rows x 4 columns]"
      ]
     },
     "execution_count": 113,
     "metadata": {},
     "output_type": "execute_result"
    }
   ],
   "source": [
    "purchase_good\n",
    "#в этой таблицы good_id - это id в табице good"
   ]
  },
  {
   "cell_type": "code",
   "execution_count": 10,
   "id": "b09baeb9",
   "metadata": {},
   "outputs": [
    {
     "data": {
      "text/plain": [
       "91    6306\n",
       "93    5975\n",
       "44    5768\n",
       "30    5697\n",
       "37    5588\n",
       "      ... \n",
       "57    1131\n",
       "18     905\n",
       "96     578\n",
       "77     574\n",
       "45     483\n",
       "Name: good_id, Length: 100, dtype: int64"
      ]
     },
     "execution_count": 10,
     "metadata": {},
     "output_type": "execute_result"
    }
   ],
   "source": [
    "purchase_good['good_id'].value_counts()\n",
    "#частотный словарь,где первый столбец - это id товара из таблицы good"
   ]
  },
  {
   "cell_type": "code",
   "execution_count": 30,
   "id": "3b59bd80",
   "metadata": {},
   "outputs": [
    {
     "data": {
      "text/html": [
       "<div>\n",
       "<style scoped>\n",
       "    .dataframe tbody tr th:only-of-type {\n",
       "        vertical-align: middle;\n",
       "    }\n",
       "\n",
       "    .dataframe tbody tr th {\n",
       "        vertical-align: top;\n",
       "    }\n",
       "\n",
       "    .dataframe thead th {\n",
       "        text-align: right;\n",
       "    }\n",
       "</style>\n",
       "<table border=\"1\" class=\"dataframe\">\n",
       "  <thead>\n",
       "    <tr style=\"text-align: right;\">\n",
       "      <th></th>\n",
       "      <th>good_name</th>\n",
       "      <th>cnt</th>\n",
       "    </tr>\n",
       "  </thead>\n",
       "  <tbody>\n",
       "    <tr>\n",
       "      <th>0</th>\n",
       "      <td>Авокадо-масло</td>\n",
       "      <td>6306</td>\n",
       "    </tr>\n",
       "    <tr>\n",
       "      <th>28</th>\n",
       "      <td>Кедровые чипсы</td>\n",
       "      <td>5975</td>\n",
       "    </tr>\n",
       "    <tr>\n",
       "      <th>44</th>\n",
       "      <td>Лосось вяленый</td>\n",
       "      <td>5768</td>\n",
       "    </tr>\n",
       "    <tr>\n",
       "      <th>59</th>\n",
       "      <td>Морская капуста сушёная</td>\n",
       "      <td>5697</td>\n",
       "    </tr>\n",
       "    <tr>\n",
       "      <th>3</th>\n",
       "      <td>Амарантовые хлопья</td>\n",
       "      <td>5588</td>\n",
       "    </tr>\n",
       "    <tr>\n",
       "      <th>32</th>\n",
       "      <td>Киноа-бургеры</td>\n",
       "      <td>5502</td>\n",
       "    </tr>\n",
       "    <tr>\n",
       "      <th>14</th>\n",
       "      <td>Горькая шоколадная плитка с высоким содержание...</td>\n",
       "      <td>5495</td>\n",
       "    </tr>\n",
       "    <tr>\n",
       "      <th>19</th>\n",
       "      <td>Грецкие орехи</td>\n",
       "      <td>5422</td>\n",
       "    </tr>\n",
       "    <tr>\n",
       "      <th>10</th>\n",
       "      <td>Бразильские орехи</td>\n",
       "      <td>5406</td>\n",
       "    </tr>\n",
       "    <tr>\n",
       "      <th>49</th>\n",
       "      <td>Льняные хлопья</td>\n",
       "      <td>5324</td>\n",
       "    </tr>\n",
       "  </tbody>\n",
       "</table>\n",
       "</div>"
      ],
      "text/plain": [
       "                                            good_name   cnt\n",
       "0                                       Авокадо-масло  6306\n",
       "28                                     Кедровые чипсы  5975\n",
       "44                                     Лосось вяленый  5768\n",
       "59                            Морская капуста сушёная  5697\n",
       "3                                  Амарантовые хлопья  5588\n",
       "32                                      Киноа-бургеры  5502\n",
       "14  Горькая шоколадная плитка с высоким содержание...  5495\n",
       "19                                      Грецкие орехи  5422\n",
       "10                                  Бразильские орехи  5406\n",
       "49                                     Льняные хлопья  5324"
      ]
     },
     "execution_count": 30,
     "metadata": {},
     "output_type": "execute_result"
    }
   ],
   "source": [
    "purchase_good \\\n",
    "    .merge(good, left_on='good_id', right_on='id') \\\n",
    "    .groupby('good_name', as_index=False) \\\n",
    "    .agg({'id': 'count'}) \\\n",
    "    .rename(columns={'id': 'cnt'}) \\\n",
    "    .sort_values('cnt', ascending=False) \\\n",
    "    .head(10)\n",
    "\n",
    "#снизу разбор по отдельным методам"
   ]
  },
  {
   "cell_type": "code",
   "execution_count": 26,
   "id": "585edc55-b72f-4a41-b36c-54aad9570139",
   "metadata": {},
   "outputs": [
    {
     "data": {
      "text/html": [
       "<div>\n",
       "<style scoped>\n",
       "    .dataframe tbody tr th:only-of-type {\n",
       "        vertical-align: middle;\n",
       "    }\n",
       "\n",
       "    .dataframe tbody tr th {\n",
       "        vertical-align: top;\n",
       "    }\n",
       "\n",
       "    .dataframe thead th {\n",
       "        text-align: right;\n",
       "    }\n",
       "</style>\n",
       "<table border=\"1\" class=\"dataframe\">\n",
       "  <thead>\n",
       "    <tr style=\"text-align: right;\">\n",
       "      <th></th>\n",
       "      <th>purchase_id</th>\n",
       "      <th>good_id</th>\n",
       "      <th>amount</th>\n",
       "      <th>was_in_recommended_goods</th>\n",
       "      <th>id</th>\n",
       "      <th>good_name</th>\n",
       "      <th>price_per_unit</th>\n",
       "    </tr>\n",
       "  </thead>\n",
       "  <tbody>\n",
       "    <tr>\n",
       "      <th>0</th>\n",
       "      <td>15495</td>\n",
       "      <td>34</td>\n",
       "      <td>2</td>\n",
       "      <td>False</td>\n",
       "      <td>34</td>\n",
       "      <td>Кишмиш-жмых</td>\n",
       "      <td>464</td>\n",
       "    </tr>\n",
       "    <tr>\n",
       "      <th>1</th>\n",
       "      <td>42640</td>\n",
       "      <td>48</td>\n",
       "      <td>1</td>\n",
       "      <td>False</td>\n",
       "      <td>48</td>\n",
       "      <td>Спаржа свежая</td>\n",
       "      <td>584</td>\n",
       "    </tr>\n",
       "    <tr>\n",
       "      <th>2</th>\n",
       "      <td>42640</td>\n",
       "      <td>36</td>\n",
       "      <td>1</td>\n",
       "      <td>False</td>\n",
       "      <td>36</td>\n",
       "      <td>Льняные хлопья</td>\n",
       "      <td>404</td>\n",
       "    </tr>\n",
       "    <tr>\n",
       "      <th>3</th>\n",
       "      <td>42640</td>\n",
       "      <td>12</td>\n",
       "      <td>2</td>\n",
       "      <td>True</td>\n",
       "      <td>12</td>\n",
       "      <td>Льняное масло холодного отжима</td>\n",
       "      <td>495</td>\n",
       "    </tr>\n",
       "    <tr>\n",
       "      <th>4</th>\n",
       "      <td>42640</td>\n",
       "      <td>35</td>\n",
       "      <td>1</td>\n",
       "      <td>True</td>\n",
       "      <td>35</td>\n",
       "      <td>Семена чиа в желе</td>\n",
       "      <td>618</td>\n",
       "    </tr>\n",
       "    <tr>\n",
       "      <th>...</th>\n",
       "      <td>...</td>\n",
       "      <td>...</td>\n",
       "      <td>...</td>\n",
       "      <td>...</td>\n",
       "      <td>...</td>\n",
       "      <td>...</td>\n",
       "      <td>...</td>\n",
       "    </tr>\n",
       "    <tr>\n",
       "      <th>352052</th>\n",
       "      <td>53057</td>\n",
       "      <td>54</td>\n",
       "      <td>1</td>\n",
       "      <td>False</td>\n",
       "      <td>54</td>\n",
       "      <td>Органический базилик</td>\n",
       "      <td>647</td>\n",
       "    </tr>\n",
       "    <tr>\n",
       "      <th>352053</th>\n",
       "      <td>72053</td>\n",
       "      <td>37</td>\n",
       "      <td>1</td>\n",
       "      <td>False</td>\n",
       "      <td>37</td>\n",
       "      <td>Амарантовые хлопья</td>\n",
       "      <td>509</td>\n",
       "    </tr>\n",
       "    <tr>\n",
       "      <th>352054</th>\n",
       "      <td>72053</td>\n",
       "      <td>7</td>\n",
       "      <td>1</td>\n",
       "      <td>False</td>\n",
       "      <td>7</td>\n",
       "      <td>Киноа органическая</td>\n",
       "      <td>572</td>\n",
       "    </tr>\n",
       "    <tr>\n",
       "      <th>352055</th>\n",
       "      <td>72053</td>\n",
       "      <td>24</td>\n",
       "      <td>1</td>\n",
       "      <td>True</td>\n",
       "      <td>24</td>\n",
       "      <td>Кедровая мука</td>\n",
       "      <td>665</td>\n",
       "    </tr>\n",
       "    <tr>\n",
       "      <th>352056</th>\n",
       "      <td>72053</td>\n",
       "      <td>50</td>\n",
       "      <td>1</td>\n",
       "      <td>False</td>\n",
       "      <td>50</td>\n",
       "      <td>Грануляция колбасы из индейки</td>\n",
       "      <td>479</td>\n",
       "    </tr>\n",
       "  </tbody>\n",
       "</table>\n",
       "<p>352057 rows × 7 columns</p>\n",
       "</div>"
      ],
      "text/plain": [
       "        purchase_id  good_id  amount  was_in_recommended_goods  id  \\\n",
       "0             15495       34       2                     False  34   \n",
       "1             42640       48       1                     False  48   \n",
       "2             42640       36       1                     False  36   \n",
       "3             42640       12       2                      True  12   \n",
       "4             42640       35       1                      True  35   \n",
       "...             ...      ...     ...                       ...  ..   \n",
       "352052        53057       54       1                     False  54   \n",
       "352053        72053       37       1                     False  37   \n",
       "352054        72053        7       1                     False   7   \n",
       "352055        72053       24       1                      True  24   \n",
       "352056        72053       50       1                     False  50   \n",
       "\n",
       "                             good_name  price_per_unit  \n",
       "0                          Кишмиш-жмых             464  \n",
       "1                        Спаржа свежая             584  \n",
       "2                       Льняные хлопья             404  \n",
       "3       Льняное масло холодного отжима             495  \n",
       "4                    Семена чиа в желе             618  \n",
       "...                                ...             ...  \n",
       "352052            Органический базилик             647  \n",
       "352053              Амарантовые хлопья             509  \n",
       "352054              Киноа органическая             572  \n",
       "352055                   Кедровая мука             665  \n",
       "352056   Грануляция колбасы из индейки             479  \n",
       "\n",
       "[352057 rows x 7 columns]"
      ]
     },
     "execution_count": 26,
     "metadata": {},
     "output_type": "execute_result"
    }
   ],
   "source": [
    "good = pd.read_csv('good.csv')\n",
    "user_purchase = pd.read_csv('user_purchase.csv')\n",
    "purchase_good = pd.read_csv('purchase_good.csv')\n",
    "#присоединяем к таблицы purchase_good таблицу good по значениям столбцов good_id и id\n",
    "purchase_good = purchase_good.merge(good, left_on='good_id', right_on='id')\n",
    "purchase_good"
   ]
  },
  {
   "cell_type": "code",
   "execution_count": 27,
   "id": "2f893597-e915-4177-8125-7f23157e45e3",
   "metadata": {},
   "outputs": [
    {
     "data": {
      "text/html": [
       "<div>\n",
       "<style scoped>\n",
       "    .dataframe tbody tr th:only-of-type {\n",
       "        vertical-align: middle;\n",
       "    }\n",
       "\n",
       "    .dataframe tbody tr th {\n",
       "        vertical-align: top;\n",
       "    }\n",
       "\n",
       "    .dataframe thead th {\n",
       "        text-align: right;\n",
       "    }\n",
       "</style>\n",
       "<table border=\"1\" class=\"dataframe\">\n",
       "  <thead>\n",
       "    <tr style=\"text-align: right;\">\n",
       "      <th></th>\n",
       "      <th>good_name</th>\n",
       "      <th>id</th>\n",
       "    </tr>\n",
       "  </thead>\n",
       "  <tbody>\n",
       "    <tr>\n",
       "      <th>0</th>\n",
       "      <td>Авокадо-масло</td>\n",
       "      <td>6306</td>\n",
       "    </tr>\n",
       "    <tr>\n",
       "      <th>1</th>\n",
       "      <td>Агавовый нектар</td>\n",
       "      <td>5048</td>\n",
       "    </tr>\n",
       "    <tr>\n",
       "      <th>2</th>\n",
       "      <td>Алоэ вера напиток</td>\n",
       "      <td>1396</td>\n",
       "    </tr>\n",
       "    <tr>\n",
       "      <th>3</th>\n",
       "      <td>Амарантовые хлопья</td>\n",
       "      <td>5588</td>\n",
       "    </tr>\n",
       "    <tr>\n",
       "      <th>4</th>\n",
       "      <td>Ананас сушёный</td>\n",
       "      <td>3804</td>\n",
       "    </tr>\n",
       "    <tr>\n",
       "      <th>...</th>\n",
       "      <td>...</td>\n",
       "      <td>...</td>\n",
       "    </tr>\n",
       "    <tr>\n",
       "      <th>95</th>\n",
       "      <td>Шпинат органический</td>\n",
       "      <td>4022</td>\n",
       "    </tr>\n",
       "    <tr>\n",
       "      <th>96</th>\n",
       "      <td>Ягоды асаи в порошке</td>\n",
       "      <td>2846</td>\n",
       "    </tr>\n",
       "    <tr>\n",
       "      <th>97</th>\n",
       "      <td>Ягоды годжи</td>\n",
       "      <td>4170</td>\n",
       "    </tr>\n",
       "    <tr>\n",
       "      <th>98</th>\n",
       "      <td>Ягоды черники свежие</td>\n",
       "      <td>4077</td>\n",
       "    </tr>\n",
       "    <tr>\n",
       "      <th>99</th>\n",
       "      <td>Ячменная крупа</td>\n",
       "      <td>3336</td>\n",
       "    </tr>\n",
       "  </tbody>\n",
       "</table>\n",
       "<p>100 rows × 2 columns</p>\n",
       "</div>"
      ],
      "text/plain": [
       "               good_name    id\n",
       "0          Авокадо-масло  6306\n",
       "1        Агавовый нектар  5048\n",
       "2      Алоэ вера напиток  1396\n",
       "3     Амарантовые хлопья  5588\n",
       "4         Ананас сушёный  3804\n",
       "..                   ...   ...\n",
       "95   Шпинат органический  4022\n",
       "96  Ягоды асаи в порошке  2846\n",
       "97           Ягоды годжи  4170\n",
       "98  Ягоды черники свежие  4077\n",
       "99        Ячменная крупа  3336\n",
       "\n",
       "[100 rows x 2 columns]"
      ]
     },
     "execution_count": 27,
     "metadata": {},
     "output_type": "execute_result"
    }
   ],
   "source": [
    "purchase_good = purchase_good.groupby('good_name', as_index=False) \\\n",
    "    .agg({'id': 'count'})\n",
    "purchase_good\n",
    "#групируем по именам товаров и аггрегируем \n",
    "#в колонку id будет записанно количество того, сколько раз id встретился в этом столбце\n",
    "#таким образом у нас появился таблица длинной 100 (количество уникальных товаров)\n",
    "#справа от имени товара пишется сколько раз его купили\n"
   ]
  },
  {
   "cell_type": "code",
   "execution_count": 28,
   "id": "7ab9de87-b3c6-4eea-a455-ff657a65234d",
   "metadata": {},
   "outputs": [
    {
     "data": {
      "text/html": [
       "<div>\n",
       "<style scoped>\n",
       "    .dataframe tbody tr th:only-of-type {\n",
       "        vertical-align: middle;\n",
       "    }\n",
       "\n",
       "    .dataframe tbody tr th {\n",
       "        vertical-align: top;\n",
       "    }\n",
       "\n",
       "    .dataframe thead th {\n",
       "        text-align: right;\n",
       "    }\n",
       "</style>\n",
       "<table border=\"1\" class=\"dataframe\">\n",
       "  <thead>\n",
       "    <tr style=\"text-align: right;\">\n",
       "      <th></th>\n",
       "      <th>good_name</th>\n",
       "      <th>cnt</th>\n",
       "    </tr>\n",
       "  </thead>\n",
       "  <tbody>\n",
       "    <tr>\n",
       "      <th>0</th>\n",
       "      <td>Авокадо-масло</td>\n",
       "      <td>6306</td>\n",
       "    </tr>\n",
       "    <tr>\n",
       "      <th>28</th>\n",
       "      <td>Кедровые чипсы</td>\n",
       "      <td>5975</td>\n",
       "    </tr>\n",
       "    <tr>\n",
       "      <th>44</th>\n",
       "      <td>Лосось вяленый</td>\n",
       "      <td>5768</td>\n",
       "    </tr>\n",
       "    <tr>\n",
       "      <th>59</th>\n",
       "      <td>Морская капуста сушёная</td>\n",
       "      <td>5697</td>\n",
       "    </tr>\n",
       "    <tr>\n",
       "      <th>3</th>\n",
       "      <td>Амарантовые хлопья</td>\n",
       "      <td>5588</td>\n",
       "    </tr>\n",
       "    <tr>\n",
       "      <th>32</th>\n",
       "      <td>Киноа-бургеры</td>\n",
       "      <td>5502</td>\n",
       "    </tr>\n",
       "    <tr>\n",
       "      <th>14</th>\n",
       "      <td>Горькая шоколадная плитка с высоким содержание...</td>\n",
       "      <td>5495</td>\n",
       "    </tr>\n",
       "    <tr>\n",
       "      <th>19</th>\n",
       "      <td>Грецкие орехи</td>\n",
       "      <td>5422</td>\n",
       "    </tr>\n",
       "    <tr>\n",
       "      <th>10</th>\n",
       "      <td>Бразильские орехи</td>\n",
       "      <td>5406</td>\n",
       "    </tr>\n",
       "    <tr>\n",
       "      <th>49</th>\n",
       "      <td>Льняные хлопья</td>\n",
       "      <td>5324</td>\n",
       "    </tr>\n",
       "  </tbody>\n",
       "</table>\n",
       "</div>"
      ],
      "text/plain": [
       "                                            good_name   cnt\n",
       "0                                       Авокадо-масло  6306\n",
       "28                                     Кедровые чипсы  5975\n",
       "44                                     Лосось вяленый  5768\n",
       "59                            Морская капуста сушёная  5697\n",
       "3                                  Амарантовые хлопья  5588\n",
       "32                                      Киноа-бургеры  5502\n",
       "14  Горькая шоколадная плитка с высоким содержание...  5495\n",
       "19                                      Грецкие орехи  5422\n",
       "10                                  Бразильские орехи  5406\n",
       "49                                     Льняные хлопья  5324"
      ]
     },
     "execution_count": 28,
     "metadata": {},
     "output_type": "execute_result"
    }
   ],
   "source": [
    "purchase_good = purchase_good.rename(columns={'id': 'cnt'}) \\\n",
    "    .sort_values('cnt', ascending=False) \\\n",
    "    .head(10)\n",
    "purchase_good\n",
    "#переименовываем колонку id в колонку cnt так как там по у нас записано количество покупок конкретного товара\n",
    "# сортируем по cnt по убыванию\n",
    "#выводим первые 10"
   ]
  },
  {
   "cell_type": "code",
   "execution_count": 31,
   "id": "339e641f",
   "metadata": {},
   "outputs": [
    {
     "data": {
      "text/html": [
       "<div>\n",
       "<style scoped>\n",
       "    .dataframe tbody tr th:only-of-type {\n",
       "        vertical-align: middle;\n",
       "    }\n",
       "\n",
       "    .dataframe tbody tr th {\n",
       "        vertical-align: top;\n",
       "    }\n",
       "\n",
       "    .dataframe thead th {\n",
       "        text-align: right;\n",
       "    }\n",
       "</style>\n",
       "<table border=\"1\" class=\"dataframe\">\n",
       "  <thead>\n",
       "    <tr style=\"text-align: right;\">\n",
       "      <th></th>\n",
       "      <th>good_name</th>\n",
       "      <th>cnt</th>\n",
       "    </tr>\n",
       "  </thead>\n",
       "  <tbody>\n",
       "    <tr>\n",
       "      <th>94</th>\n",
       "      <td>Шоколадные коктейльные протеины</td>\n",
       "      <td>1131</td>\n",
       "    </tr>\n",
       "    <tr>\n",
       "      <th>92</th>\n",
       "      <td>Чёрная рисовая мука</td>\n",
       "      <td>905</td>\n",
       "    </tr>\n",
       "    <tr>\n",
       "      <th>63</th>\n",
       "      <td>Органическая кокосовая мука</td>\n",
       "      <td>578</td>\n",
       "    </tr>\n",
       "    <tr>\n",
       "      <th>51</th>\n",
       "      <td>Масло авокадо</td>\n",
       "      <td>574</td>\n",
       "    </tr>\n",
       "    <tr>\n",
       "      <th>15</th>\n",
       "      <td>Горький миндальный шоколад</td>\n",
       "      <td>483</td>\n",
       "    </tr>\n",
       "  </tbody>\n",
       "</table>\n",
       "</div>"
      ],
      "text/plain": [
       "                          good_name   cnt\n",
       "94  Шоколадные коктейльные протеины  1131\n",
       "92              Чёрная рисовая мука   905\n",
       "63      Органическая кокосовая мука   578\n",
       "51                    Масло авокадо   574\n",
       "15       Горький миндальный шоколад   483"
      ]
     },
     "execution_count": 31,
     "metadata": {},
     "output_type": "execute_result"
    }
   ],
   "source": [
    "purchase_good \\\n",
    "    .merge(good, left_on='good_id', right_on='id') \\\n",
    "    .groupby('good_name', as_index=False) \\\n",
    "    .agg({'id': 'count'}) \\\n",
    "    .rename(columns={'id': 'cnt'}) \\\n",
    "    .sort_values('cnt', ascending=False) \\\n",
    "    .tail(5)\n",
    "#выводим полседние 5 "
   ]
  },
  {
   "cell_type": "code",
   "execution_count": 33,
   "id": "e7d34c7b",
   "metadata": {},
   "outputs": [
    {
     "data": {
      "text/html": [
       "<div>\n",
       "<style scoped>\n",
       "    .dataframe tbody tr th:only-of-type {\n",
       "        vertical-align: middle;\n",
       "    }\n",
       "\n",
       "    .dataframe tbody tr th {\n",
       "        vertical-align: top;\n",
       "    }\n",
       "\n",
       "    .dataframe thead th {\n",
       "        text-align: right;\n",
       "    }\n",
       "</style>\n",
       "<table border=\"1\" class=\"dataframe\">\n",
       "  <thead>\n",
       "    <tr style=\"text-align: right;\">\n",
       "      <th></th>\n",
       "      <th>id</th>\n",
       "      <th>user_id</th>\n",
       "      <th>date_time</th>\n",
       "    </tr>\n",
       "  </thead>\n",
       "  <tbody>\n",
       "    <tr>\n",
       "      <th>0</th>\n",
       "      <td>1</td>\n",
       "      <td>5784</td>\n",
       "      <td>2023-09-20 00:01:07</td>\n",
       "    </tr>\n",
       "    <tr>\n",
       "      <th>1</th>\n",
       "      <td>2</td>\n",
       "      <td>4468</td>\n",
       "      <td>2023-09-20 00:04:18</td>\n",
       "    </tr>\n",
       "    <tr>\n",
       "      <th>2</th>\n",
       "      <td>3</td>\n",
       "      <td>3827</td>\n",
       "      <td>2023-09-20 00:04:35</td>\n",
       "    </tr>\n",
       "    <tr>\n",
       "      <th>3</th>\n",
       "      <td>4</td>\n",
       "      <td>3272</td>\n",
       "      <td>2023-09-20 00:06:32</td>\n",
       "    </tr>\n",
       "    <tr>\n",
       "      <th>4</th>\n",
       "      <td>5</td>\n",
       "      <td>9461</td>\n",
       "      <td>2023-09-20 00:08:24</td>\n",
       "    </tr>\n",
       "    <tr>\n",
       "      <th>...</th>\n",
       "      <td>...</td>\n",
       "      <td>...</td>\n",
       "      <td>...</td>\n",
       "    </tr>\n",
       "    <tr>\n",
       "      <th>74946</th>\n",
       "      <td>74947</td>\n",
       "      <td>5634</td>\n",
       "      <td>2023-11-28 23:52:18</td>\n",
       "    </tr>\n",
       "    <tr>\n",
       "      <th>74947</th>\n",
       "      <td>74948</td>\n",
       "      <td>5318</td>\n",
       "      <td>2023-11-28 23:54:22</td>\n",
       "    </tr>\n",
       "    <tr>\n",
       "      <th>74948</th>\n",
       "      <td>74949</td>\n",
       "      <td>14345</td>\n",
       "      <td>2023-11-28 23:55:03</td>\n",
       "    </tr>\n",
       "    <tr>\n",
       "      <th>74949</th>\n",
       "      <td>74950</td>\n",
       "      <td>795</td>\n",
       "      <td>2023-11-28 23:57:06</td>\n",
       "    </tr>\n",
       "    <tr>\n",
       "      <th>74950</th>\n",
       "      <td>74951</td>\n",
       "      <td>13682</td>\n",
       "      <td>2023-11-28 23:57:51</td>\n",
       "    </tr>\n",
       "  </tbody>\n",
       "</table>\n",
       "<p>74951 rows × 3 columns</p>\n",
       "</div>"
      ],
      "text/plain": [
       "          id  user_id            date_time\n",
       "0          1     5784  2023-09-20 00:01:07\n",
       "1          2     4468  2023-09-20 00:04:18\n",
       "2          3     3827  2023-09-20 00:04:35\n",
       "3          4     3272  2023-09-20 00:06:32\n",
       "4          5     9461  2023-09-20 00:08:24\n",
       "...      ...      ...                  ...\n",
       "74946  74947     5634  2023-11-28 23:52:18\n",
       "74947  74948     5318  2023-11-28 23:54:22\n",
       "74948  74949    14345  2023-11-28 23:55:03\n",
       "74949  74950      795  2023-11-28 23:57:06\n",
       "74950  74951    13682  2023-11-28 23:57:51\n",
       "\n",
       "[74951 rows x 3 columns]"
      ]
     },
     "execution_count": 33,
     "metadata": {},
     "output_type": "execute_result"
    }
   ],
   "source": [
    "user_purchase\n",
    "#id - id покупки\n",
    "#user_id- id пользователя равный id в таблице user "
   ]
  },
  {
   "cell_type": "code",
   "execution_count": 34,
   "id": "35f4f4dd",
   "metadata": {},
   "outputs": [
    {
     "data": {
      "text/plain": [
       "0        2023-09-20 00:01:07\n",
       "1        2023-09-20 00:04:18\n",
       "2        2023-09-20 00:04:35\n",
       "3        2023-09-20 00:06:32\n",
       "4        2023-09-20 00:08:24\n",
       "                ...         \n",
       "74946    2023-11-28 23:52:18\n",
       "74947    2023-11-28 23:54:22\n",
       "74948    2023-11-28 23:55:03\n",
       "74949    2023-11-28 23:57:06\n",
       "74950    2023-11-28 23:57:51\n",
       "Name: date_time, Length: 74951, dtype: object"
      ]
     },
     "execution_count": 34,
     "metadata": {},
     "output_type": "execute_result"
    }
   ],
   "source": [
    "user_purchase['date_time']\n",
    "#пока что тип данных в колонке 'date_time' object"
   ]
  },
  {
   "cell_type": "code",
   "execution_count": 35,
   "id": "fbfc820a",
   "metadata": {},
   "outputs": [
    {
     "data": {
      "text/plain": [
       "dtype('O')"
      ]
     },
     "execution_count": 35,
     "metadata": {},
     "output_type": "execute_result"
    }
   ],
   "source": [
    "user_purchase['date_time'].dtype"
   ]
  },
  {
   "cell_type": "code",
   "execution_count": 36,
   "id": "570c0345",
   "metadata": {},
   "outputs": [],
   "source": [
    "user_purchase['date_time'] = pd.to_datetime(user_purchase['date_time'], format='%Y-%m-%d %H:%M:%S')\n",
    "#приводим его к виду времени Timestamp"
   ]
  },
  {
   "cell_type": "code",
   "execution_count": 37,
   "id": "2bdb6c15",
   "metadata": {},
   "outputs": [
    {
     "data": {
      "text/plain": [
       "dtype('<M8[ns]')"
      ]
     },
     "execution_count": 37,
     "metadata": {},
     "output_type": "execute_result"
    }
   ],
   "source": [
    "user_purchase['date_time'].dtype"
   ]
  },
  {
   "cell_type": "code",
   "execution_count": 38,
   "id": "e2c67246",
   "metadata": {},
   "outputs": [
    {
     "data": {
      "text/plain": [
       "Timestamp('2023-11-28 23:57:51')"
      ]
     },
     "execution_count": 38,
     "metadata": {},
     "output_type": "execute_result"
    }
   ],
   "source": [
    "user_purchase['date_time'].max()"
   ]
  },
  {
   "cell_type": "code",
   "execution_count": 39,
   "id": "191b769d",
   "metadata": {},
   "outputs": [
    {
     "data": {
      "text/plain": [
       "Timestamp('2023-09-20 00:01:07')"
      ]
     },
     "execution_count": 39,
     "metadata": {},
     "output_type": "execute_result"
    }
   ],
   "source": [
    "user_purchase['date_time'].min()"
   ]
  },
  {
   "cell_type": "code",
   "execution_count": 40,
   "id": "cdd7eb70",
   "metadata": {},
   "outputs": [
    {
     "data": {
      "text/plain": [
       "69"
      ]
     },
     "execution_count": 40,
     "metadata": {},
     "output_type": "execute_result"
    }
   ],
   "source": [
    "(user_purchase['date_time'].max() - user_purchase['date_time'].min()).days\n",
    "#количество дней охватываемых нашими данными"
   ]
  },
  {
   "cell_type": "code",
   "execution_count": 133,
   "id": "28f328a5",
   "metadata": {},
   "outputs": [
    {
     "data": {
      "text/plain": [
       "<Axes: xlabel='date_time', ylabel='Count'>"
      ]
     },
     "execution_count": 133,
     "metadata": {},
     "output_type": "execute_result"
    },
    {
     "data": {
      "image/png": "[encoded data removed]",
      "text/plain": [
       "<Figure size 1170x827 with 1 Axes>"
      ]
     },
     "metadata": {},
     "output_type": "display_data"
    }
   ],
   "source": [
    "sns.histplot(user_purchase['date_time'].dt.floor('D'), bins=70)\n",
    "#график покупок в день (bins = 70 так как дней 69)\n",
    "#по графику не видно приироста после внедрения нового алгоритма рекомендаций "
   ]
  },
  {
   "cell_type": "markdown",
   "id": "58255dc5",
   "metadata": {},
   "source": [
    "### Проверка разбиения на группы в рамках эксперимента"
   ]
  },
  {
   "cell_type": "code",
   "execution_count": 48,
   "id": "144f07e5",
   "metadata": {},
   "outputs": [],
   "source": [
    "treatment_user_ids = frozenset(user_ab_group[user_ab_group['group'] == 'treatment']['user_id'])\n",
    "control_user_ids = frozenset(user_ab_group[user_ab_group['group'] == 'control']['user_id'])\n",
    "#в каждую из переменных мы присваем множество уникальных айдишников из определнной группы"
   ]
  },
  {
   "cell_type": "code",
   "execution_count": 49,
   "id": "f18775b5",
   "metadata": {},
   "outputs": [
    {
     "data": {
      "text/plain": [
       "frozenset()"
      ]
     },
     "execution_count": 49,
     "metadata": {},
     "output_type": "execute_result"
    }
   ],
   "source": [
    "treatment_user_ids & control_user_ids\n",
    "#смотрим есть ли у нас пересечения в них \n",
    "#если да, то мы нарушаем требования со стороны математического аппарата\n",
    "#так как у нас сбивается статистика ведь найдутся выбросы \n",
    "\n",
    "#по итогу пересечение множеств пустое "
   ]
  },
  {
   "cell_type": "code",
   "execution_count": 50,
   "id": "d7a6d30b",
   "metadata": {},
   "outputs": [
    {
     "data": {
      "text/plain": [
       "(5990, 5925)"
      ]
     },
     "execution_count": 50,
     "metadata": {},
     "output_type": "execute_result"
    }
   ],
   "source": [
    "len(treatment_user_ids), len(control_user_ids)\n",
    "#в множествах примерно равное количество элементов"
   ]
  },
  {
   "cell_type": "code",
   "execution_count": 51,
   "id": "8bad5cee",
   "metadata": {},
   "outputs": [],
   "source": [
    "our_diff = len(treatment_user_ids) - len(control_user_ids)\n"
   ]
  },
  {
   "cell_type": "code",
   "execution_count": 52,
   "id": "7fdb3599",
   "metadata": {},
   "outputs": [
    {
     "data": {
      "text/plain": [
       "65"
      ]
     },
     "execution_count": 52,
     "metadata": {},
     "output_type": "execute_result"
    }
   ],
   "source": [
    "our_diff\n",
    "#разника в количестве всего 65, отбор элементов производился случайно"
   ]
  },
  {
   "cell_type": "markdown",
   "id": "80d054e7",
   "metadata": {},
   "source": [
    "Может ли иметь место Sample Ratio Mismatch (SRM)?"
   ]
  },
  {
   "cell_type": "code",
   "execution_count": 45,
   "id": "85d56d02",
   "metadata": {},
   "outputs": [],
   "source": [
    "diffs = []\n",
    "\n",
    "for i in range(10_000):\n",
    "    arr = [random.randint(0, 1) for i in range(len(user_ab_group))]\n",
    "    diff = sum(arr) - (len(arr) - sum(arr))\n",
    "    diffs.append(diff)\n",
    "#проверяем, могло ли получится такое распределение\n",
    "# 10 000 раз сгенерируем случайные числа либо 0 либо 1\n",
    "# сделаем это столько раз, сколько людей у нас отобранно в обе группы\n",
    "# пусть 1 означает, что пользователь попал в эксперементальную группу а 0 в контрольную ( не имеет значения ) \n",
    "#тогда разница для такого распределения (diff) -\n",
    "#это сумма (количество единиц равно сумме единиц то есть это количество в эксперементальном) - (общее число - эта же сумма)\n",
    "#да эта сумма может быть отрицательным но это не имеет значения так как разность величина абсолютная + график должен получится куполообразным\n",
    "#сохраним все 10 000 разниц в массив "
   ]
  },
  {
   "cell_type": "code",
   "execution_count": 46,
   "id": "c195c564",
   "metadata": {},
   "outputs": [],
   "source": [
    "diffs_s = pd.Series(diffs)\n",
    "# преобразоываем массив в pd.Series"
   ]
  },
  {
   "cell_type": "code",
   "execution_count": 47,
   "id": "f6aff8ba",
   "metadata": {},
   "outputs": [
    {
     "data": {
      "text/plain": [
       "<Axes: ylabel='Count'>"
      ]
     },
     "execution_count": 47,
     "metadata": {},
     "output_type": "execute_result"
    },
    {
     "data": {
      "image/png": "[encoded data removed]",
      "text/plain": [
       "<Figure size 1170x827 with 1 Axes>"
      ]
     },
     "metadata": {},
     "output_type": "display_data"
    }
   ],
   "source": [
    "sns.histplot(diffs_s)\n",
    "#строим график"
   ]
  },
  {
   "cell_type": "code",
   "execution_count": 28,
   "id": "bae03b18",
   "metadata": {},
   "outputs": [
    {
     "data": {
      "text/plain": [
       "<matplotlib.collections.LineCollection at 0x15cea0df0>"
      ]
     },
     "execution_count": 28,
     "metadata": {},
     "output_type": "execute_result"
    },
    {
     "data": {
      "image/png": "[encoded data removed]",
      "text/plain": [
       "<Figure size 1170x827 with 1 Axes>"
      ]
     },
     "metadata": {},
     "output_type": "display_data"
    }
   ],
   "source": [
    "ax = sns.histplot(diffs)\n",
    "ax.vlines(our_diff, 0, 520, linestyles='dashed', color='orange') # первый аргумент - это наше текущая разница\n",
    "# 0 - 520 это высота на которой дожна построится линия\n",
    "#стиль линии пунктирная\n",
    "#цвет оранжевый"
   ]
  },
  {
   "cell_type": "code",
   "execution_count": 29,
   "id": "f51823dc",
   "metadata": {},
   "outputs": [],
   "source": [
    "from math import floor\n",
    "\n",
    "alpha = 0.05\n",
    "#альфа из ошибки 1 рода - границы выходя за которые мы понимаем что есть ошибки\n",
    "half_alpha = floor(len(diffs_s) * alpha / 2)\n",
    "\n",
    "diffs_cut = sorted(diffs_s)[half_alpha:-half_alpha]\n",
    "#создаем осортированных список с границами  в *полу альфах тем самым diffs_cut[0] -левая граница а diffs_cut[-1] правая"
   ]
  },
  {
   "cell_type": "code",
   "execution_count": 30,
   "id": "aa89d4ab",
   "metadata": {},
   "outputs": [
    {
     "data": {
      "text/plain": [
       "<matplotlib.collections.LineCollection at 0x15cf97460>"
      ]
     },
     "execution_count": 30,
     "metadata": {},
     "output_type": "execute_result"
    },
    {
     "data": {
      "image/png": "[encoded data removed]",
      "text/plain": [
       "<Figure size 1170x827 with 1 Axes>"
      ]
     },
     "metadata": {},
     "output_type": "display_data"
    }
   ],
   "source": [
    "ax = sns.histplot(diffs)\n",
    "\n",
    "ax.vlines([our_diff], 0, 550, linestyles='dashed', color='orange')\n",
    "ax.vlines([diffs_cut[0], diffs_cut[-1]], 0, 550, linestyles='dashed', color='red')\n",
    "#строим новый график и видим что наше значение в пределах нормы и наше разбиение на группы было создано нормально"
   ]
  },
  {
   "cell_type": "markdown",
   "id": "eac98765",
   "metadata": {},
   "source": [
    "# Поиск ответа на вопрос"
   ]
  },
  {
   "cell_type": "markdown",
   "id": "be2134f4",
   "metadata": {},
   "source": [
    "## План ответа на вопрос"
   ]
  },
  {
   "cell_type": "markdown",
   "id": "ffe961d4",
   "metadata": {},
   "source": [
    "1. Оставим информацию только про покупки нужных нам пользователей в период проведения эксперимента (с 01.10.23 по 14.10.23).\n",
    "2. Вычислим выручку для каждого из пользователей.\n",
    "3. Сравним средние выручки в контрольной и экспериментальной группах с помощью t-теста.\n",
    "4. Проинтерпретируем полученный результат."
   ]
  },
  {
   "cell_type": "markdown",
   "id": "e5857f62",
   "metadata": {},
   "source": [
    "## 1. Оставляем нужные нам покупки"
   ]
  },
  {
   "cell_type": "code",
   "execution_count": 31,
   "id": "fc67d0c0",
   "metadata": {},
   "outputs": [],
   "source": [
    "from datetime import datetime"
   ]
  },
  {
   "cell_type": "code",
   "execution_count": 32,
   "id": "ae71b7d4",
   "metadata": {},
   "outputs": [],
   "source": [
    "exp_start_date = datetime(year=2023, month=10, day=1)\n",
    "exp_end_date = datetime(year=2023, month=10, day=15)\n",
    "# по условию это даты когда начался и закончился эксперимент "
   ]
  },
  {
   "cell_type": "code",
   "execution_count": 33,
   "id": "28612ab4",
   "metadata": {},
   "outputs": [],
   "source": [
    "needed_purchases = \\\n",
    "    user_purchase[(user_purchase['date_time'] >= exp_start_date) & (user_purchase['date_time'] < exp_end_date)]\n",
    "#отфильтровываем покупки только в нужные даты\n",
    "treatment_purchases = needed_purchases[needed_purchases['user_id'].isin(treatment_user_ids)]\n",
    "control_purchases = needed_purchases[needed_purchases['user_id'].isin(control_user_ids)]"
   ]
  },
  {
   "cell_type": "code",
   "execution_count": 34,
   "id": "dd8dfe9e",
   "metadata": {},
   "outputs": [
    {
     "data": {
      "text/plain": [
       "(5879, 5944)"
      ]
     },
     "execution_count": 34,
     "metadata": {},
     "output_type": "execute_result"
    }
   ],
   "source": [
    "len(treatment_purchases), len(control_purchases)"
   ]
  },
  {
   "cell_type": "markdown",
   "id": "1f2a3308",
   "metadata": {},
   "source": [
    "## 2. Вычисляем выручку для каждого из пользователей"
   ]
  },
  {
   "cell_type": "code",
   "execution_count": 35,
   "id": "22a8153c",
   "metadata": {},
   "outputs": [
    {
     "data": {
      "text/html": [
       "<div>\n",
       "<style scoped>\n",
       "    .dataframe tbody tr th:only-of-type {\n",
       "        vertical-align: middle;\n",
       "    }\n",
       "\n",
       "    .dataframe tbody tr th {\n",
       "        vertical-align: top;\n",
       "    }\n",
       "\n",
       "    .dataframe thead th {\n",
       "        text-align: right;\n",
       "    }\n",
       "</style>\n",
       "<table border=\"1\" class=\"dataframe\">\n",
       "  <thead>\n",
       "    <tr style=\"text-align: right;\">\n",
       "      <th></th>\n",
       "      <th>id</th>\n",
       "      <th>good_name</th>\n",
       "      <th>price_per_unit</th>\n",
       "    </tr>\n",
       "  </thead>\n",
       "  <tbody>\n",
       "    <tr>\n",
       "      <th>0</th>\n",
       "      <td>1</td>\n",
       "      <td>Органический авокадо</td>\n",
       "      <td>336</td>\n",
       "    </tr>\n",
       "    <tr>\n",
       "      <th>1</th>\n",
       "      <td>2</td>\n",
       "      <td>Льняные семена</td>\n",
       "      <td>796</td>\n",
       "    </tr>\n",
       "    <tr>\n",
       "      <th>2</th>\n",
       "      <td>3</td>\n",
       "      <td>Кокосовое масло Extra Virgin</td>\n",
       "      <td>558</td>\n",
       "    </tr>\n",
       "    <tr>\n",
       "      <th>3</th>\n",
       "      <td>4</td>\n",
       "      <td>Гречка цельнозерновая</td>\n",
       "      <td>484</td>\n",
       "    </tr>\n",
       "    <tr>\n",
       "      <th>4</th>\n",
       "      <td>5</td>\n",
       "      <td>Лосось дикого копчения</td>\n",
       "      <td>480</td>\n",
       "    </tr>\n",
       "    <tr>\n",
       "      <th>...</th>\n",
       "      <td>...</td>\n",
       "      <td>...</td>\n",
       "      <td>...</td>\n",
       "    </tr>\n",
       "    <tr>\n",
       "      <th>95</th>\n",
       "      <td>96</td>\n",
       "      <td>Органическая кокосовая мука</td>\n",
       "      <td>616</td>\n",
       "    </tr>\n",
       "    <tr>\n",
       "      <th>96</th>\n",
       "      <td>97</td>\n",
       "      <td>Семена чиа в меде</td>\n",
       "      <td>379</td>\n",
       "    </tr>\n",
       "    <tr>\n",
       "      <th>97</th>\n",
       "      <td>98</td>\n",
       "      <td>Кардамон органический</td>\n",
       "      <td>459</td>\n",
       "    </tr>\n",
       "    <tr>\n",
       "      <th>98</th>\n",
       "      <td>99</td>\n",
       "      <td>Куркума в порошке</td>\n",
       "      <td>647</td>\n",
       "    </tr>\n",
       "    <tr>\n",
       "      <th>99</th>\n",
       "      <td>100</td>\n",
       "      <td>Белый чай в листьях</td>\n",
       "      <td>472</td>\n",
       "    </tr>\n",
       "  </tbody>\n",
       "</table>\n",
       "<p>100 rows × 3 columns</p>\n",
       "</div>"
      ],
      "text/plain": [
       "     id                     good_name  price_per_unit\n",
       "0     1          Органический авокадо             336\n",
       "1     2                Льняные семена             796\n",
       "2     3  Кокосовое масло Extra Virgin             558\n",
       "3     4         Гречка цельнозерновая             484\n",
       "4     5        Лосось дикого копчения             480\n",
       "..  ...                           ...             ...\n",
       "95   96   Органическая кокосовая мука             616\n",
       "96   97             Семена чиа в меде             379\n",
       "97   98         Кардамон органический             459\n",
       "98   99             Куркума в порошке             647\n",
       "99  100           Белый чай в листьях             472\n",
       "\n",
       "[100 rows x 3 columns]"
      ]
     },
     "execution_count": 35,
     "metadata": {},
     "output_type": "execute_result"
    }
   ],
   "source": [
    "good"
   ]
  },
  {
   "cell_type": "code",
   "execution_count": 175,
   "id": "a90e2802",
   "metadata": {},
   "outputs": [
    {
     "data": {
      "text/html": [
       "<div>\n",
       "<style scoped>\n",
       "    .dataframe tbody tr th:only-of-type {\n",
       "        vertical-align: middle;\n",
       "    }\n",
       "\n",
       "    .dataframe tbody tr th {\n",
       "        vertical-align: top;\n",
       "    }\n",
       "\n",
       "    .dataframe thead th {\n",
       "        text-align: right;\n",
       "    }\n",
       "</style>\n",
       "<table border=\"1\" class=\"dataframe\">\n",
       "  <thead>\n",
       "    <tr style=\"text-align: right;\">\n",
       "      <th></th>\n",
       "      <th>purchase_id</th>\n",
       "      <th>good_id</th>\n",
       "      <th>amount</th>\n",
       "      <th>was_in_recommended_goods</th>\n",
       "    </tr>\n",
       "  </thead>\n",
       "  <tbody>\n",
       "    <tr>\n",
       "      <th>0</th>\n",
       "      <td>15495</td>\n",
       "      <td>34</td>\n",
       "      <td>2</td>\n",
       "      <td>False</td>\n",
       "    </tr>\n",
       "    <tr>\n",
       "      <th>1</th>\n",
       "      <td>42640</td>\n",
       "      <td>48</td>\n",
       "      <td>1</td>\n",
       "      <td>False</td>\n",
       "    </tr>\n",
       "    <tr>\n",
       "      <th>2</th>\n",
       "      <td>42640</td>\n",
       "      <td>36</td>\n",
       "      <td>1</td>\n",
       "      <td>False</td>\n",
       "    </tr>\n",
       "    <tr>\n",
       "      <th>3</th>\n",
       "      <td>42640</td>\n",
       "      <td>12</td>\n",
       "      <td>2</td>\n",
       "      <td>True</td>\n",
       "    </tr>\n",
       "    <tr>\n",
       "      <th>4</th>\n",
       "      <td>42640</td>\n",
       "      <td>35</td>\n",
       "      <td>1</td>\n",
       "      <td>True</td>\n",
       "    </tr>\n",
       "    <tr>\n",
       "      <th>...</th>\n",
       "      <td>...</td>\n",
       "      <td>...</td>\n",
       "      <td>...</td>\n",
       "      <td>...</td>\n",
       "    </tr>\n",
       "    <tr>\n",
       "      <th>352052</th>\n",
       "      <td>53057</td>\n",
       "      <td>54</td>\n",
       "      <td>1</td>\n",
       "      <td>False</td>\n",
       "    </tr>\n",
       "    <tr>\n",
       "      <th>352053</th>\n",
       "      <td>72053</td>\n",
       "      <td>37</td>\n",
       "      <td>1</td>\n",
       "      <td>False</td>\n",
       "    </tr>\n",
       "    <tr>\n",
       "      <th>352054</th>\n",
       "      <td>72053</td>\n",
       "      <td>7</td>\n",
       "      <td>1</td>\n",
       "      <td>False</td>\n",
       "    </tr>\n",
       "    <tr>\n",
       "      <th>352055</th>\n",
       "      <td>72053</td>\n",
       "      <td>24</td>\n",
       "      <td>1</td>\n",
       "      <td>True</td>\n",
       "    </tr>\n",
       "    <tr>\n",
       "      <th>352056</th>\n",
       "      <td>72053</td>\n",
       "      <td>50</td>\n",
       "      <td>1</td>\n",
       "      <td>False</td>\n",
       "    </tr>\n",
       "  </tbody>\n",
       "</table>\n",
       "<p>352057 rows × 4 columns</p>\n",
       "</div>"
      ],
      "text/plain": [
       "        purchase_id  good_id  amount  was_in_recommended_goods\n",
       "0             15495       34       2                     False\n",
       "1             42640       48       1                     False\n",
       "2             42640       36       1                     False\n",
       "3             42640       12       2                      True\n",
       "4             42640       35       1                      True\n",
       "...             ...      ...     ...                       ...\n",
       "352052        53057       54       1                     False\n",
       "352053        72053       37       1                     False\n",
       "352054        72053        7       1                     False\n",
       "352055        72053       24       1                      True\n",
       "352056        72053       50       1                     False\n",
       "\n",
       "[352057 rows x 4 columns]"
      ]
     },
     "execution_count": 175,
     "metadata": {},
     "output_type": "execute_result"
    }
   ],
   "source": [
    "purchase_good"
   ]
  },
  {
   "cell_type": "code",
   "execution_count": 36,
   "id": "56d753f4",
   "metadata": {},
   "outputs": [],
   "source": [
    "purchase_good_full_info = purchase_good.merge(good, left_on='good_id', right_on='id')\n",
    "# соединяем две таблицы для подсчета выручки"
   ]
  },
  {
   "cell_type": "code",
   "execution_count": 37,
   "id": "64025078",
   "metadata": {},
   "outputs": [
    {
     "data": {
      "text/html": [
       "<div>\n",
       "<style scoped>\n",
       "    .dataframe tbody tr th:only-of-type {\n",
       "        vertical-align: middle;\n",
       "    }\n",
       "\n",
       "    .dataframe tbody tr th {\n",
       "        vertical-align: top;\n",
       "    }\n",
       "\n",
       "    .dataframe thead th {\n",
       "        text-align: right;\n",
       "    }\n",
       "</style>\n",
       "<table border=\"1\" class=\"dataframe\">\n",
       "  <thead>\n",
       "    <tr style=\"text-align: right;\">\n",
       "      <th></th>\n",
       "      <th>purchase_id</th>\n",
       "      <th>good_id</th>\n",
       "      <th>amount</th>\n",
       "      <th>was_in_recommended_goods</th>\n",
       "      <th>id</th>\n",
       "      <th>good_name</th>\n",
       "      <th>price_per_unit</th>\n",
       "    </tr>\n",
       "  </thead>\n",
       "  <tbody>\n",
       "    <tr>\n",
       "      <th>0</th>\n",
       "      <td>15495</td>\n",
       "      <td>34</td>\n",
       "      <td>2</td>\n",
       "      <td>False</td>\n",
       "      <td>34</td>\n",
       "      <td>Кишмиш-жмых</td>\n",
       "      <td>464</td>\n",
       "    </tr>\n",
       "    <tr>\n",
       "      <th>1</th>\n",
       "      <td>6291</td>\n",
       "      <td>34</td>\n",
       "      <td>1</td>\n",
       "      <td>False</td>\n",
       "      <td>34</td>\n",
       "      <td>Кишмиш-жмых</td>\n",
       "      <td>464</td>\n",
       "    </tr>\n",
       "    <tr>\n",
       "      <th>2</th>\n",
       "      <td>21060</td>\n",
       "      <td>34</td>\n",
       "      <td>1</td>\n",
       "      <td>False</td>\n",
       "      <td>34</td>\n",
       "      <td>Кишмиш-жмых</td>\n",
       "      <td>464</td>\n",
       "    </tr>\n",
       "    <tr>\n",
       "      <th>3</th>\n",
       "      <td>17172</td>\n",
       "      <td>34</td>\n",
       "      <td>1</td>\n",
       "      <td>False</td>\n",
       "      <td>34</td>\n",
       "      <td>Кишмиш-жмых</td>\n",
       "      <td>464</td>\n",
       "    </tr>\n",
       "    <tr>\n",
       "      <th>4</th>\n",
       "      <td>29246</td>\n",
       "      <td>34</td>\n",
       "      <td>1</td>\n",
       "      <td>False</td>\n",
       "      <td>34</td>\n",
       "      <td>Кишмиш-жмых</td>\n",
       "      <td>464</td>\n",
       "    </tr>\n",
       "    <tr>\n",
       "      <th>...</th>\n",
       "      <td>...</td>\n",
       "      <td>...</td>\n",
       "      <td>...</td>\n",
       "      <td>...</td>\n",
       "      <td>...</td>\n",
       "      <td>...</td>\n",
       "      <td>...</td>\n",
       "    </tr>\n",
       "    <tr>\n",
       "      <th>352052</th>\n",
       "      <td>17705</td>\n",
       "      <td>45</td>\n",
       "      <td>1</td>\n",
       "      <td>False</td>\n",
       "      <td>45</td>\n",
       "      <td>Горький миндальный шоколад</td>\n",
       "      <td>591</td>\n",
       "    </tr>\n",
       "    <tr>\n",
       "      <th>352053</th>\n",
       "      <td>52109</td>\n",
       "      <td>45</td>\n",
       "      <td>2</td>\n",
       "      <td>False</td>\n",
       "      <td>45</td>\n",
       "      <td>Горький миндальный шоколад</td>\n",
       "      <td>591</td>\n",
       "    </tr>\n",
       "    <tr>\n",
       "      <th>352054</th>\n",
       "      <td>24888</td>\n",
       "      <td>45</td>\n",
       "      <td>1</td>\n",
       "      <td>False</td>\n",
       "      <td>45</td>\n",
       "      <td>Горький миндальный шоколад</td>\n",
       "      <td>591</td>\n",
       "    </tr>\n",
       "    <tr>\n",
       "      <th>352055</th>\n",
       "      <td>11982</td>\n",
       "      <td>45</td>\n",
       "      <td>1</td>\n",
       "      <td>False</td>\n",
       "      <td>45</td>\n",
       "      <td>Горький миндальный шоколад</td>\n",
       "      <td>591</td>\n",
       "    </tr>\n",
       "    <tr>\n",
       "      <th>352056</th>\n",
       "      <td>74912</td>\n",
       "      <td>45</td>\n",
       "      <td>1</td>\n",
       "      <td>True</td>\n",
       "      <td>45</td>\n",
       "      <td>Горький миндальный шоколад</td>\n",
       "      <td>591</td>\n",
       "    </tr>\n",
       "  </tbody>\n",
       "</table>\n",
       "<p>352057 rows × 7 columns</p>\n",
       "</div>"
      ],
      "text/plain": [
       "        purchase_id  good_id  amount  was_in_recommended_goods  id  \\\n",
       "0             15495       34       2                     False  34   \n",
       "1              6291       34       1                     False  34   \n",
       "2             21060       34       1                     False  34   \n",
       "3             17172       34       1                     False  34   \n",
       "4             29246       34       1                     False  34   \n",
       "...             ...      ...     ...                       ...  ..   \n",
       "352052        17705       45       1                     False  45   \n",
       "352053        52109       45       2                     False  45   \n",
       "352054        24888       45       1                     False  45   \n",
       "352055        11982       45       1                     False  45   \n",
       "352056        74912       45       1                      True  45   \n",
       "\n",
       "                         good_name  price_per_unit  \n",
       "0                      Кишмиш-жмых             464  \n",
       "1                      Кишмиш-жмых             464  \n",
       "2                      Кишмиш-жмых             464  \n",
       "3                      Кишмиш-жмых             464  \n",
       "4                      Кишмиш-жмых             464  \n",
       "...                            ...             ...  \n",
       "352052  Горький миндальный шоколад             591  \n",
       "352053  Горький миндальный шоколад             591  \n",
       "352054  Горький миндальный шоколад             591  \n",
       "352055  Горький миндальный шоколад             591  \n",
       "352056  Горький миндальный шоколад             591  \n",
       "\n",
       "[352057 rows x 7 columns]"
      ]
     },
     "execution_count": 37,
     "metadata": {},
     "output_type": "execute_result"
    }
   ],
   "source": [
    "purchase_good_full_info"
   ]
  },
  {
   "cell_type": "code",
   "execution_count": 38,
   "id": "00bd9485",
   "metadata": {},
   "outputs": [],
   "source": [
    "purchase_good_full_info['paid'] = purchase_good_full_info['amount'] * purchase_good_full_info['price_per_unit']"
   ]
  },
  {
   "cell_type": "code",
   "execution_count": 176,
   "id": "646a126c",
   "metadata": {},
   "outputs": [
    {
     "data": {
      "text/html": [
       "<div>\n",
       "<style scoped>\n",
       "    .dataframe tbody tr th:only-of-type {\n",
       "        vertical-align: middle;\n",
       "    }\n",
       "\n",
       "    .dataframe tbody tr th {\n",
       "        vertical-align: top;\n",
       "    }\n",
       "\n",
       "    .dataframe thead th {\n",
       "        text-align: right;\n",
       "    }\n",
       "</style>\n",
       "<table border=\"1\" class=\"dataframe\">\n",
       "  <thead>\n",
       "    <tr style=\"text-align: right;\">\n",
       "      <th></th>\n",
       "      <th>purchase_id</th>\n",
       "      <th>good_id</th>\n",
       "      <th>amount</th>\n",
       "      <th>was_in_recommended_goods</th>\n",
       "      <th>id</th>\n",
       "      <th>good_name</th>\n",
       "      <th>price_per_unit</th>\n",
       "      <th>paid</th>\n",
       "    </tr>\n",
       "  </thead>\n",
       "  <tbody>\n",
       "    <tr>\n",
       "      <th>0</th>\n",
       "      <td>15495</td>\n",
       "      <td>34</td>\n",
       "      <td>2</td>\n",
       "      <td>False</td>\n",
       "      <td>34</td>\n",
       "      <td>Кишмиш-жмых</td>\n",
       "      <td>464</td>\n",
       "      <td>928</td>\n",
       "    </tr>\n",
       "    <tr>\n",
       "      <th>1</th>\n",
       "      <td>6291</td>\n",
       "      <td>34</td>\n",
       "      <td>1</td>\n",
       "      <td>False</td>\n",
       "      <td>34</td>\n",
       "      <td>Кишмиш-жмых</td>\n",
       "      <td>464</td>\n",
       "      <td>464</td>\n",
       "    </tr>\n",
       "    <tr>\n",
       "      <th>2</th>\n",
       "      <td>21060</td>\n",
       "      <td>34</td>\n",
       "      <td>1</td>\n",
       "      <td>False</td>\n",
       "      <td>34</td>\n",
       "      <td>Кишмиш-жмых</td>\n",
       "      <td>464</td>\n",
       "      <td>464</td>\n",
       "    </tr>\n",
       "    <tr>\n",
       "      <th>3</th>\n",
       "      <td>17172</td>\n",
       "      <td>34</td>\n",
       "      <td>1</td>\n",
       "      <td>False</td>\n",
       "      <td>34</td>\n",
       "      <td>Кишмиш-жмых</td>\n",
       "      <td>464</td>\n",
       "      <td>464</td>\n",
       "    </tr>\n",
       "    <tr>\n",
       "      <th>4</th>\n",
       "      <td>29246</td>\n",
       "      <td>34</td>\n",
       "      <td>1</td>\n",
       "      <td>False</td>\n",
       "      <td>34</td>\n",
       "      <td>Кишмиш-жмых</td>\n",
       "      <td>464</td>\n",
       "      <td>464</td>\n",
       "    </tr>\n",
       "    <tr>\n",
       "      <th>...</th>\n",
       "      <td>...</td>\n",
       "      <td>...</td>\n",
       "      <td>...</td>\n",
       "      <td>...</td>\n",
       "      <td>...</td>\n",
       "      <td>...</td>\n",
       "      <td>...</td>\n",
       "      <td>...</td>\n",
       "    </tr>\n",
       "    <tr>\n",
       "      <th>352052</th>\n",
       "      <td>17705</td>\n",
       "      <td>45</td>\n",
       "      <td>1</td>\n",
       "      <td>False</td>\n",
       "      <td>45</td>\n",
       "      <td>Горький миндальный шоколад</td>\n",
       "      <td>591</td>\n",
       "      <td>591</td>\n",
       "    </tr>\n",
       "    <tr>\n",
       "      <th>352053</th>\n",
       "      <td>52109</td>\n",
       "      <td>45</td>\n",
       "      <td>2</td>\n",
       "      <td>False</td>\n",
       "      <td>45</td>\n",
       "      <td>Горький миндальный шоколад</td>\n",
       "      <td>591</td>\n",
       "      <td>1182</td>\n",
       "    </tr>\n",
       "    <tr>\n",
       "      <th>352054</th>\n",
       "      <td>24888</td>\n",
       "      <td>45</td>\n",
       "      <td>1</td>\n",
       "      <td>False</td>\n",
       "      <td>45</td>\n",
       "      <td>Горький миндальный шоколад</td>\n",
       "      <td>591</td>\n",
       "      <td>591</td>\n",
       "    </tr>\n",
       "    <tr>\n",
       "      <th>352055</th>\n",
       "      <td>11982</td>\n",
       "      <td>45</td>\n",
       "      <td>1</td>\n",
       "      <td>False</td>\n",
       "      <td>45</td>\n",
       "      <td>Горький миндальный шоколад</td>\n",
       "      <td>591</td>\n",
       "      <td>591</td>\n",
       "    </tr>\n",
       "    <tr>\n",
       "      <th>352056</th>\n",
       "      <td>74912</td>\n",
       "      <td>45</td>\n",
       "      <td>1</td>\n",
       "      <td>True</td>\n",
       "      <td>45</td>\n",
       "      <td>Горький миндальный шоколад</td>\n",
       "      <td>591</td>\n",
       "      <td>591</td>\n",
       "    </tr>\n",
       "  </tbody>\n",
       "</table>\n",
       "<p>352057 rows × 8 columns</p>\n",
       "</div>"
      ],
      "text/plain": [
       "        purchase_id  good_id  amount  was_in_recommended_goods  id  \\\n",
       "0             15495       34       2                     False  34   \n",
       "1              6291       34       1                     False  34   \n",
       "2             21060       34       1                     False  34   \n",
       "3             17172       34       1                     False  34   \n",
       "4             29246       34       1                     False  34   \n",
       "...             ...      ...     ...                       ...  ..   \n",
       "352052        17705       45       1                     False  45   \n",
       "352053        52109       45       2                     False  45   \n",
       "352054        24888       45       1                     False  45   \n",
       "352055        11982       45       1                     False  45   \n",
       "352056        74912       45       1                      True  45   \n",
       "\n",
       "                         good_name  price_per_unit  paid  \n",
       "0                      Кишмиш-жмых             464   928  \n",
       "1                      Кишмиш-жмых             464   464  \n",
       "2                      Кишмиш-жмых             464   464  \n",
       "3                      Кишмиш-жмых             464   464  \n",
       "4                      Кишмиш-жмых             464   464  \n",
       "...                            ...             ...   ...  \n",
       "352052  Горький миндальный шоколад             591   591  \n",
       "352053  Горький миндальный шоколад             591  1182  \n",
       "352054  Горький миндальный шоколад             591   591  \n",
       "352055  Горький миндальный шоколад             591   591  \n",
       "352056  Горький миндальный шоколад             591   591  \n",
       "\n",
       "[352057 rows x 8 columns]"
      ]
     },
     "execution_count": 176,
     "metadata": {},
     "output_type": "execute_result"
    }
   ],
   "source": [
    "purchase_good_full_info"
   ]
  },
  {
   "cell_type": "code",
   "execution_count": 39,
   "id": "7ff36f40",
   "metadata": {},
   "outputs": [],
   "source": [
    "purchase_full_paid = purchase_good_full_info \\\n",
    "    .groupby('purchase_id', as_index=False) \\\n",
    "    .agg({'paid': 'sum'})\n"
   ]
  },
  {
   "cell_type": "code",
   "execution_count": 177,
   "id": "cb32cc38",
   "metadata": {},
   "outputs": [
    {
     "data": {
      "text/html": [
       "<div>\n",
       "<style scoped>\n",
       "    .dataframe tbody tr th:only-of-type {\n",
       "        vertical-align: middle;\n",
       "    }\n",
       "\n",
       "    .dataframe tbody tr th {\n",
       "        vertical-align: top;\n",
       "    }\n",
       "\n",
       "    .dataframe thead th {\n",
       "        text-align: right;\n",
       "    }\n",
       "</style>\n",
       "<table border=\"1\" class=\"dataframe\">\n",
       "  <thead>\n",
       "    <tr style=\"text-align: right;\">\n",
       "      <th></th>\n",
       "      <th>purchase_id</th>\n",
       "      <th>paid</th>\n",
       "    </tr>\n",
       "  </thead>\n",
       "  <tbody>\n",
       "    <tr>\n",
       "      <th>0</th>\n",
       "      <td>1</td>\n",
       "      <td>3985</td>\n",
       "    </tr>\n",
       "    <tr>\n",
       "      <th>1</th>\n",
       "      <td>2</td>\n",
       "      <td>6095</td>\n",
       "    </tr>\n",
       "    <tr>\n",
       "      <th>2</th>\n",
       "      <td>3</td>\n",
       "      <td>3092</td>\n",
       "    </tr>\n",
       "    <tr>\n",
       "      <th>3</th>\n",
       "      <td>4</td>\n",
       "      <td>3875</td>\n",
       "    </tr>\n",
       "    <tr>\n",
       "      <th>4</th>\n",
       "      <td>5</td>\n",
       "      <td>8411</td>\n",
       "    </tr>\n",
       "    <tr>\n",
       "      <th>...</th>\n",
       "      <td>...</td>\n",
       "      <td>...</td>\n",
       "    </tr>\n",
       "    <tr>\n",
       "      <th>74946</th>\n",
       "      <td>74947</td>\n",
       "      <td>4382</td>\n",
       "    </tr>\n",
       "    <tr>\n",
       "      <th>74947</th>\n",
       "      <td>74948</td>\n",
       "      <td>4863</td>\n",
       "    </tr>\n",
       "    <tr>\n",
       "      <th>74948</th>\n",
       "      <td>74949</td>\n",
       "      <td>464</td>\n",
       "    </tr>\n",
       "    <tr>\n",
       "      <th>74949</th>\n",
       "      <td>74950</td>\n",
       "      <td>7490</td>\n",
       "    </tr>\n",
       "    <tr>\n",
       "      <th>74950</th>\n",
       "      <td>74951</td>\n",
       "      <td>982</td>\n",
       "    </tr>\n",
       "  </tbody>\n",
       "</table>\n",
       "<p>74951 rows × 2 columns</p>\n",
       "</div>"
      ],
      "text/plain": [
       "       purchase_id  paid\n",
       "0                1  3985\n",
       "1                2  6095\n",
       "2                3  3092\n",
       "3                4  3875\n",
       "4                5  8411\n",
       "...            ...   ...\n",
       "74946        74947  4382\n",
       "74947        74948  4863\n",
       "74948        74949   464\n",
       "74949        74950  7490\n",
       "74950        74951   982\n",
       "\n",
       "[74951 rows x 2 columns]"
      ]
     },
     "execution_count": 177,
     "metadata": {},
     "output_type": "execute_result"
    }
   ],
   "source": [
    "purchase_full_paid\n",
    "# сколько в рамках каждой покупки было потрачено денег"
   ]
  },
  {
   "cell_type": "code",
   "execution_count": 40,
   "id": "7a9f98c4",
   "metadata": {},
   "outputs": [
    {
     "data": {
      "text/html": [
       "<div>\n",
       "<style scoped>\n",
       "    .dataframe tbody tr th:only-of-type {\n",
       "        vertical-align: middle;\n",
       "    }\n",
       "\n",
       "    .dataframe tbody tr th {\n",
       "        vertical-align: top;\n",
       "    }\n",
       "\n",
       "    .dataframe thead th {\n",
       "        text-align: right;\n",
       "    }\n",
       "</style>\n",
       "<table border=\"1\" class=\"dataframe\">\n",
       "  <thead>\n",
       "    <tr style=\"text-align: right;\">\n",
       "      <th></th>\n",
       "      <th>id</th>\n",
       "      <th>user_id</th>\n",
       "      <th>date_time</th>\n",
       "    </tr>\n",
       "  </thead>\n",
       "  <tbody>\n",
       "    <tr>\n",
       "      <th>11832</th>\n",
       "      <td>11833</td>\n",
       "      <td>12987</td>\n",
       "      <td>2023-10-01 00:02:30</td>\n",
       "    </tr>\n",
       "    <tr>\n",
       "      <th>11835</th>\n",
       "      <td>11836</td>\n",
       "      <td>4791</td>\n",
       "      <td>2023-10-01 00:07:04</td>\n",
       "    </tr>\n",
       "    <tr>\n",
       "      <th>11836</th>\n",
       "      <td>11837</td>\n",
       "      <td>6773</td>\n",
       "      <td>2023-10-01 00:07:21</td>\n",
       "    </tr>\n",
       "    <tr>\n",
       "      <th>11839</th>\n",
       "      <td>11840</td>\n",
       "      <td>1933</td>\n",
       "      <td>2023-10-01 00:08:27</td>\n",
       "    </tr>\n",
       "    <tr>\n",
       "      <th>11842</th>\n",
       "      <td>11843</td>\n",
       "      <td>12373</td>\n",
       "      <td>2023-10-01 00:12:26</td>\n",
       "    </tr>\n",
       "    <tr>\n",
       "      <th>...</th>\n",
       "      <td>...</td>\n",
       "      <td>...</td>\n",
       "      <td>...</td>\n",
       "    </tr>\n",
       "    <tr>\n",
       "      <th>26711</th>\n",
       "      <td>26712</td>\n",
       "      <td>1969</td>\n",
       "      <td>2023-10-14 23:51:07</td>\n",
       "    </tr>\n",
       "    <tr>\n",
       "      <th>26715</th>\n",
       "      <td>26716</td>\n",
       "      <td>12626</td>\n",
       "      <td>2023-10-14 23:51:41</td>\n",
       "    </tr>\n",
       "    <tr>\n",
       "      <th>26716</th>\n",
       "      <td>26717</td>\n",
       "      <td>11774</td>\n",
       "      <td>2023-10-14 23:52:52</td>\n",
       "    </tr>\n",
       "    <tr>\n",
       "      <th>26719</th>\n",
       "      <td>26720</td>\n",
       "      <td>4643</td>\n",
       "      <td>2023-10-14 23:55:57</td>\n",
       "    </tr>\n",
       "    <tr>\n",
       "      <th>26720</th>\n",
       "      <td>26721</td>\n",
       "      <td>9557</td>\n",
       "      <td>2023-10-14 23:58:28</td>\n",
       "    </tr>\n",
       "  </tbody>\n",
       "</table>\n",
       "<p>5879 rows × 3 columns</p>\n",
       "</div>"
      ],
      "text/plain": [
       "          id  user_id           date_time\n",
       "11832  11833    12987 2023-10-01 00:02:30\n",
       "11835  11836     4791 2023-10-01 00:07:04\n",
       "11836  11837     6773 2023-10-01 00:07:21\n",
       "11839  11840     1933 2023-10-01 00:08:27\n",
       "11842  11843    12373 2023-10-01 00:12:26\n",
       "...      ...      ...                 ...\n",
       "26711  26712     1969 2023-10-14 23:51:07\n",
       "26715  26716    12626 2023-10-14 23:51:41\n",
       "26716  26717    11774 2023-10-14 23:52:52\n",
       "26719  26720     4643 2023-10-14 23:55:57\n",
       "26720  26721     9557 2023-10-14 23:58:28\n",
       "\n",
       "[5879 rows x 3 columns]"
      ]
     },
     "execution_count": 40,
     "metadata": {},
     "output_type": "execute_result"
    }
   ],
   "source": [
    "treatment_purchases"
   ]
  },
  {
   "cell_type": "code",
   "execution_count": 41,
   "id": "f8124526",
   "metadata": {},
   "outputs": [
    {
     "data": {
      "text/html": [
       "<div>\n",
       "<style scoped>\n",
       "    .dataframe tbody tr th:only-of-type {\n",
       "        vertical-align: middle;\n",
       "    }\n",
       "\n",
       "    .dataframe tbody tr th {\n",
       "        vertical-align: top;\n",
       "    }\n",
       "\n",
       "    .dataframe thead th {\n",
       "        text-align: right;\n",
       "    }\n",
       "</style>\n",
       "<table border=\"1\" class=\"dataframe\">\n",
       "  <thead>\n",
       "    <tr style=\"text-align: right;\">\n",
       "      <th></th>\n",
       "      <th>id</th>\n",
       "      <th>user_id</th>\n",
       "      <th>date_time</th>\n",
       "      <th>purchase_id</th>\n",
       "      <th>paid</th>\n",
       "    </tr>\n",
       "  </thead>\n",
       "  <tbody>\n",
       "    <tr>\n",
       "      <th>0</th>\n",
       "      <td>11833</td>\n",
       "      <td>12987</td>\n",
       "      <td>2023-10-01 00:02:30</td>\n",
       "      <td>11833</td>\n",
       "      <td>1938</td>\n",
       "    </tr>\n",
       "    <tr>\n",
       "      <th>1</th>\n",
       "      <td>11836</td>\n",
       "      <td>4791</td>\n",
       "      <td>2023-10-01 00:07:04</td>\n",
       "      <td>11836</td>\n",
       "      <td>5090</td>\n",
       "    </tr>\n",
       "    <tr>\n",
       "      <th>2</th>\n",
       "      <td>11837</td>\n",
       "      <td>6773</td>\n",
       "      <td>2023-10-01 00:07:21</td>\n",
       "      <td>11837</td>\n",
       "      <td>8265</td>\n",
       "    </tr>\n",
       "    <tr>\n",
       "      <th>3</th>\n",
       "      <td>11840</td>\n",
       "      <td>1933</td>\n",
       "      <td>2023-10-01 00:08:27</td>\n",
       "      <td>11840</td>\n",
       "      <td>8678</td>\n",
       "    </tr>\n",
       "    <tr>\n",
       "      <th>4</th>\n",
       "      <td>11843</td>\n",
       "      <td>12373</td>\n",
       "      <td>2023-10-01 00:12:26</td>\n",
       "      <td>11843</td>\n",
       "      <td>2141</td>\n",
       "    </tr>\n",
       "    <tr>\n",
       "      <th>...</th>\n",
       "      <td>...</td>\n",
       "      <td>...</td>\n",
       "      <td>...</td>\n",
       "      <td>...</td>\n",
       "      <td>...</td>\n",
       "    </tr>\n",
       "    <tr>\n",
       "      <th>5874</th>\n",
       "      <td>26712</td>\n",
       "      <td>1969</td>\n",
       "      <td>2023-10-14 23:51:07</td>\n",
       "      <td>26712</td>\n",
       "      <td>1138</td>\n",
       "    </tr>\n",
       "    <tr>\n",
       "      <th>5875</th>\n",
       "      <td>26716</td>\n",
       "      <td>12626</td>\n",
       "      <td>2023-10-14 23:51:41</td>\n",
       "      <td>26716</td>\n",
       "      <td>4119</td>\n",
       "    </tr>\n",
       "    <tr>\n",
       "      <th>5876</th>\n",
       "      <td>26717</td>\n",
       "      <td>11774</td>\n",
       "      <td>2023-10-14 23:52:52</td>\n",
       "      <td>26717</td>\n",
       "      <td>1018</td>\n",
       "    </tr>\n",
       "    <tr>\n",
       "      <th>5877</th>\n",
       "      <td>26720</td>\n",
       "      <td>4643</td>\n",
       "      <td>2023-10-14 23:55:57</td>\n",
       "      <td>26720</td>\n",
       "      <td>5554</td>\n",
       "    </tr>\n",
       "    <tr>\n",
       "      <th>5878</th>\n",
       "      <td>26721</td>\n",
       "      <td>9557</td>\n",
       "      <td>2023-10-14 23:58:28</td>\n",
       "      <td>26721</td>\n",
       "      <td>4047</td>\n",
       "    </tr>\n",
       "  </tbody>\n",
       "</table>\n",
       "<p>5879 rows × 5 columns</p>\n",
       "</div>"
      ],
      "text/plain": [
       "         id  user_id           date_time  purchase_id  paid\n",
       "0     11833    12987 2023-10-01 00:02:30        11833  1938\n",
       "1     11836     4791 2023-10-01 00:07:04        11836  5090\n",
       "2     11837     6773 2023-10-01 00:07:21        11837  8265\n",
       "3     11840     1933 2023-10-01 00:08:27        11840  8678\n",
       "4     11843    12373 2023-10-01 00:12:26        11843  2141\n",
       "...     ...      ...                 ...          ...   ...\n",
       "5874  26712     1969 2023-10-14 23:51:07        26712  1138\n",
       "5875  26716    12626 2023-10-14 23:51:41        26716  4119\n",
       "5876  26717    11774 2023-10-14 23:52:52        26717  1018\n",
       "5877  26720     4643 2023-10-14 23:55:57        26720  5554\n",
       "5878  26721     9557 2023-10-14 23:58:28        26721  4047\n",
       "\n",
       "[5879 rows x 5 columns]"
      ]
     },
     "execution_count": 41,
     "metadata": {},
     "output_type": "execute_result"
    }
   ],
   "source": [
    "treatment_purchases.merge(purchase_full_paid, left_on='id', right_on='purchase_id')"
   ]
  },
  {
   "cell_type": "code",
   "execution_count": 42,
   "id": "9c646785",
   "metadata": {},
   "outputs": [
    {
     "data": {
      "text/plain": [
       "26518335"
      ]
     },
     "execution_count": 42,
     "metadata": {},
     "output_type": "execute_result"
    }
   ],
   "source": [
    "treatment_purchases.merge(purchase_full_paid, left_on='id', right_on='purchase_id')['paid'].sum()\n",
    "# cумма котору потратили в эксп группе"
   ]
  },
  {
   "cell_type": "code",
   "execution_count": 43,
   "id": "59929950",
   "metadata": {},
   "outputs": [
    {
     "data": {
      "text/plain": [
       "15660483"
      ]
     },
     "execution_count": 43,
     "metadata": {},
     "output_type": "execute_result"
    }
   ],
   "source": [
    "control_purchases.merge(purchase_full_paid, left_on='id', right_on='purchase_id')['paid'].sum()\n",
    "# сумму которую потратили в контрольной группе"
   ]
  },
  {
   "cell_type": "code",
   "execution_count": null,
   "id": "1ac5738d-c456-4e72-b441-c64c8781c838",
   "metadata": {},
   "outputs": [],
   "source": [
    "#разница в 10 миллиононв\n",
    "#это могло быть совпадение или ошибка, надо доказать математически\n"
   ]
  },
  {
   "cell_type": "code",
   "execution_count": 44,
   "id": "00c0f1e1",
   "metadata": {},
   "outputs": [
    {
     "data": {
      "text/html": [
       "<div>\n",
       "<style scoped>\n",
       "    .dataframe tbody tr th:only-of-type {\n",
       "        vertical-align: middle;\n",
       "    }\n",
       "\n",
       "    .dataframe tbody tr th {\n",
       "        vertical-align: top;\n",
       "    }\n",
       "\n",
       "    .dataframe thead th {\n",
       "        text-align: right;\n",
       "    }\n",
       "</style>\n",
       "<table border=\"1\" class=\"dataframe\">\n",
       "  <thead>\n",
       "    <tr style=\"text-align: right;\">\n",
       "      <th></th>\n",
       "      <th>user_id</th>\n",
       "      <th>paid</th>\n",
       "    </tr>\n",
       "  </thead>\n",
       "  <tbody>\n",
       "    <tr>\n",
       "      <th>0</th>\n",
       "      <td>2</td>\n",
       "      <td>7190</td>\n",
       "    </tr>\n",
       "    <tr>\n",
       "      <th>1</th>\n",
       "      <td>6</td>\n",
       "      <td>665</td>\n",
       "    </tr>\n",
       "    <tr>\n",
       "      <th>2</th>\n",
       "      <td>10</td>\n",
       "      <td>3587</td>\n",
       "    </tr>\n",
       "    <tr>\n",
       "      <th>3</th>\n",
       "      <td>12</td>\n",
       "      <td>640</td>\n",
       "    </tr>\n",
       "    <tr>\n",
       "      <th>4</th>\n",
       "      <td>13</td>\n",
       "      <td>7921</td>\n",
       "    </tr>\n",
       "    <tr>\n",
       "      <th>...</th>\n",
       "      <td>...</td>\n",
       "      <td>...</td>\n",
       "    </tr>\n",
       "    <tr>\n",
       "      <th>4304</th>\n",
       "      <td>14988</td>\n",
       "      <td>1530</td>\n",
       "    </tr>\n",
       "    <tr>\n",
       "      <th>4305</th>\n",
       "      <td>14994</td>\n",
       "      <td>2586</td>\n",
       "    </tr>\n",
       "    <tr>\n",
       "      <th>4306</th>\n",
       "      <td>14996</td>\n",
       "      <td>6996</td>\n",
       "    </tr>\n",
       "    <tr>\n",
       "      <th>4307</th>\n",
       "      <td>14998</td>\n",
       "      <td>6498</td>\n",
       "    </tr>\n",
       "    <tr>\n",
       "      <th>4308</th>\n",
       "      <td>15000</td>\n",
       "      <td>4398</td>\n",
       "    </tr>\n",
       "  </tbody>\n",
       "</table>\n",
       "<p>4309 rows × 2 columns</p>\n",
       "</div>"
      ],
      "text/plain": [
       "      user_id  paid\n",
       "0           2  7190\n",
       "1           6   665\n",
       "2          10  3587\n",
       "3          12   640\n",
       "4          13  7921\n",
       "...       ...   ...\n",
       "4304    14988  1530\n",
       "4305    14994  2586\n",
       "4306    14996  6996\n",
       "4307    14998  6498\n",
       "4308    15000  4398\n",
       "\n",
       "[4309 rows x 2 columns]"
      ]
     },
     "execution_count": 44,
     "metadata": {},
     "output_type": "execute_result"
    }
   ],
   "source": [
    "treatment_purchases \\\n",
    "    .merge(purchase_full_paid, left_on='id', right_on='purchase_id') \\\n",
    "    .groupby('user_id', as_index=False) \\\n",
    "    .agg({'paid': 'sum'})"
   ]
  },
  {
   "cell_type": "code",
   "execution_count": 45,
   "id": "f2194540",
   "metadata": {},
   "outputs": [],
   "source": [
    "treatment_revenue_per_user = treatment_purchases \\\n",
    "    .merge(purchase_full_paid, left_on='id', right_on='purchase_id') \\\n",
    "    .groupby('user_id', as_index=False) \\\n",
    "    .agg({'paid': 'sum'})\n",
    "\n",
    "control_revenue_per_user = control_purchases \\\n",
    "    .merge(purchase_full_paid, left_on='id', right_on='purchase_id') \\\n",
    "    .groupby('user_id', as_index=False) \\\n",
    "    .agg({'paid': 'sum'})\n",
    "#создадим таблицу в которой каждому пользователю предоставлена его сумма покупок за период "
   ]
  },
  {
   "cell_type": "code",
   "execution_count": 178,
   "id": "3429eb6b",
   "metadata": {},
   "outputs": [
    {
     "data": {
      "text/html": [
       "<div>\n",
       "<style scoped>\n",
       "    .dataframe tbody tr th:only-of-type {\n",
       "        vertical-align: middle;\n",
       "    }\n",
       "\n",
       "    .dataframe tbody tr th {\n",
       "        vertical-align: top;\n",
       "    }\n",
       "\n",
       "    .dataframe thead th {\n",
       "        text-align: right;\n",
       "    }\n",
       "</style>\n",
       "<table border=\"1\" class=\"dataframe\">\n",
       "  <thead>\n",
       "    <tr style=\"text-align: right;\">\n",
       "      <th></th>\n",
       "      <th>user_id</th>\n",
       "      <th>paid</th>\n",
       "    </tr>\n",
       "  </thead>\n",
       "  <tbody>\n",
       "    <tr>\n",
       "      <th>0</th>\n",
       "      <td>2</td>\n",
       "      <td>7190</td>\n",
       "    </tr>\n",
       "    <tr>\n",
       "      <th>1</th>\n",
       "      <td>6</td>\n",
       "      <td>665</td>\n",
       "    </tr>\n",
       "    <tr>\n",
       "      <th>2</th>\n",
       "      <td>10</td>\n",
       "      <td>3587</td>\n",
       "    </tr>\n",
       "    <tr>\n",
       "      <th>3</th>\n",
       "      <td>12</td>\n",
       "      <td>640</td>\n",
       "    </tr>\n",
       "    <tr>\n",
       "      <th>4</th>\n",
       "      <td>13</td>\n",
       "      <td>7921</td>\n",
       "    </tr>\n",
       "    <tr>\n",
       "      <th>...</th>\n",
       "      <td>...</td>\n",
       "      <td>...</td>\n",
       "    </tr>\n",
       "    <tr>\n",
       "      <th>4304</th>\n",
       "      <td>14988</td>\n",
       "      <td>1530</td>\n",
       "    </tr>\n",
       "    <tr>\n",
       "      <th>4305</th>\n",
       "      <td>14994</td>\n",
       "      <td>2586</td>\n",
       "    </tr>\n",
       "    <tr>\n",
       "      <th>4306</th>\n",
       "      <td>14996</td>\n",
       "      <td>6996</td>\n",
       "    </tr>\n",
       "    <tr>\n",
       "      <th>4307</th>\n",
       "      <td>14998</td>\n",
       "      <td>6498</td>\n",
       "    </tr>\n",
       "    <tr>\n",
       "      <th>4308</th>\n",
       "      <td>15000</td>\n",
       "      <td>4398</td>\n",
       "    </tr>\n",
       "  </tbody>\n",
       "</table>\n",
       "<p>4309 rows × 2 columns</p>\n",
       "</div>"
      ],
      "text/plain": [
       "      user_id  paid\n",
       "0           2  7190\n",
       "1           6   665\n",
       "2          10  3587\n",
       "3          12   640\n",
       "4          13  7921\n",
       "...       ...   ...\n",
       "4304    14988  1530\n",
       "4305    14994  2586\n",
       "4306    14996  6996\n",
       "4307    14998  6498\n",
       "4308    15000  4398\n",
       "\n",
       "[4309 rows x 2 columns]"
      ]
     },
     "execution_count": 178,
     "metadata": {},
     "output_type": "execute_result"
    }
   ],
   "source": [
    "treatment_revenue_per_user"
   ]
  },
  {
   "cell_type": "code",
   "execution_count": 179,
   "id": "1792680d",
   "metadata": {},
   "outputs": [
    {
     "data": {
      "text/html": [
       "<div>\n",
       "<style scoped>\n",
       "    .dataframe tbody tr th:only-of-type {\n",
       "        vertical-align: middle;\n",
       "    }\n",
       "\n",
       "    .dataframe tbody tr th {\n",
       "        vertical-align: top;\n",
       "    }\n",
       "\n",
       "    .dataframe thead th {\n",
       "        text-align: right;\n",
       "    }\n",
       "</style>\n",
       "<table border=\"1\" class=\"dataframe\">\n",
       "  <thead>\n",
       "    <tr style=\"text-align: right;\">\n",
       "      <th></th>\n",
       "      <th>user_id</th>\n",
       "      <th>paid</th>\n",
       "    </tr>\n",
       "  </thead>\n",
       "  <tbody>\n",
       "    <tr>\n",
       "      <th>0</th>\n",
       "      <td>1</td>\n",
       "      <td>928</td>\n",
       "    </tr>\n",
       "    <tr>\n",
       "      <th>1</th>\n",
       "      <td>4</td>\n",
       "      <td>447</td>\n",
       "    </tr>\n",
       "    <tr>\n",
       "      <th>2</th>\n",
       "      <td>9</td>\n",
       "      <td>559</td>\n",
       "    </tr>\n",
       "    <tr>\n",
       "      <th>3</th>\n",
       "      <td>15</td>\n",
       "      <td>5279</td>\n",
       "    </tr>\n",
       "    <tr>\n",
       "      <th>4</th>\n",
       "      <td>16</td>\n",
       "      <td>1290</td>\n",
       "    </tr>\n",
       "    <tr>\n",
       "      <th>...</th>\n",
       "      <td>...</td>\n",
       "      <td>...</td>\n",
       "    </tr>\n",
       "    <tr>\n",
       "      <th>4264</th>\n",
       "      <td>14979</td>\n",
       "      <td>3012</td>\n",
       "    </tr>\n",
       "    <tr>\n",
       "      <th>4265</th>\n",
       "      <td>14980</td>\n",
       "      <td>1234</td>\n",
       "    </tr>\n",
       "    <tr>\n",
       "      <th>4266</th>\n",
       "      <td>14983</td>\n",
       "      <td>3126</td>\n",
       "    </tr>\n",
       "    <tr>\n",
       "      <th>4267</th>\n",
       "      <td>14985</td>\n",
       "      <td>991</td>\n",
       "    </tr>\n",
       "    <tr>\n",
       "      <th>4268</th>\n",
       "      <td>14991</td>\n",
       "      <td>424</td>\n",
       "    </tr>\n",
       "  </tbody>\n",
       "</table>\n",
       "<p>4269 rows × 2 columns</p>\n",
       "</div>"
      ],
      "text/plain": [
       "      user_id  paid\n",
       "0           1   928\n",
       "1           4   447\n",
       "2           9   559\n",
       "3          15  5279\n",
       "4          16  1290\n",
       "...       ...   ...\n",
       "4264    14979  3012\n",
       "4265    14980  1234\n",
       "4266    14983  3126\n",
       "4267    14985   991\n",
       "4268    14991   424\n",
       "\n",
       "[4269 rows x 2 columns]"
      ]
     },
     "execution_count": 179,
     "metadata": {},
     "output_type": "execute_result"
    }
   ],
   "source": [
    "control_revenue_per_user"
   ]
  },
  {
   "cell_type": "markdown",
   "id": "893281bb",
   "metadata": {},
   "source": [
    "## 3. Сравниваем средние в группах с помощью t-теста"
   ]
  },
  {
   "cell_type": "code",
   "execution_count": 46,
   "id": "1bc062ed",
   "metadata": {},
   "outputs": [],
   "source": [
    "treatment_revenues_l = list(treatment_revenue_per_user['paid'])\n",
    "control_revenues_l = list(control_revenue_per_user['paid'])"
   ]
  },
  {
   "cell_type": "code",
   "execution_count": 47,
   "id": "d997a85c",
   "metadata": {},
   "outputs": [
    {
     "data": {
      "text/plain": [
       "(4309, 4269)"
      ]
     },
     "execution_count": 47,
     "metadata": {},
     "output_type": "execute_result"
    }
   ],
   "source": [
    "len(treatment_revenues_l), len(control_revenues_l)"
   ]
  },
  {
   "cell_type": "code",
   "execution_count": 48,
   "id": "6484b2bf",
   "metadata": {},
   "outputs": [
    {
     "data": {
      "text/plain": [
       "(5990, 5925)"
      ]
     },
     "execution_count": 48,
     "metadata": {},
     "output_type": "execute_result"
    }
   ],
   "source": [
    "len(treatment_user_ids), len(control_user_ids)"
   ]
  },
  {
   "cell_type": "code",
   "execution_count": 49,
   "id": "a728c5ac",
   "metadata": {},
   "outputs": [],
   "source": [
    "treatment_revenues_l = treatment_revenues_l + [0] * (len(treatment_user_ids) - len(treatment_revenues_l))\n",
    "control_revenues_l = control_revenues_l + [0] * (len(control_user_ids) - len(control_revenues_l))\n",
    "#так как в каждой группе были пользователи которые не совершали покупки при обработке они отбрасывались, но их надо учесть поэтому \n",
    "#добавим к спискам еще список нулец длинна разницы длинн "
   ]
  },
  {
   "cell_type": "code",
   "execution_count": 180,
   "id": "88a093aa",
   "metadata": {},
   "outputs": [
    {
     "data": {
      "text/plain": [
       "(5990, 5925)"
      ]
     },
     "execution_count": 180,
     "metadata": {},
     "output_type": "execute_result"
    }
   ],
   "source": [
    "len(treatment_revenues_l), len(control_revenues_l)"
   ]
  },
  {
   "cell_type": "code",
   "execution_count": 53,
   "id": "faf003bc",
   "metadata": {},
   "outputs": [
    {
     "data": {
      "text/plain": [
       "<Axes: ylabel='Count'>"
      ]
     },
     "execution_count": 53,
     "metadata": {},
     "output_type": "execute_result"
    },
    {
     "data": {
      "image/png": "[encoded data removed]",
      "text/plain": [
       "<Figure size 1170x827 with 1 Axes>"
      ]
     },
     "metadata": {},
     "output_type": "display_data"
    }
   ],
   "source": [
    "sns.histplot(treatment_revenues_l)"
   ]
  },
  {
   "cell_type": "code",
   "execution_count": 59,
   "id": "c22d23f3",
   "metadata": {},
   "outputs": [
    {
     "data": {
      "text/plain": [
       "<Axes: ylabel='Count'>"
      ]
     },
     "execution_count": 59,
     "metadata": {},
     "output_type": "execute_result"
    },
    {
     "data": {
      "image/png": "[encoded data removed]",
      "text/plain": [
       "<Figure size 1170x827 with 1 Axes>"
      ]
     },
     "metadata": {},
     "output_type": "display_data"
    }
   ],
   "source": [
    "sns.histplot(control_revenues_l)\n",
    "sns.histplot(treatment_revenues_l)"
   ]
  },
  {
   "cell_type": "code",
   "execution_count": 60,
   "id": "27e15452",
   "metadata": {},
   "outputs": [
    {
     "data": {
      "text/plain": [
       "<Axes: ylabel='Count'>"
      ]
     },
     "execution_count": 60,
     "metadata": {},
     "output_type": "execute_result"
    },
    {
     "data": {
      "image/png": "[encoded data removed]",
      "text/plain": [
       "<Figure size 1170x827 with 1 Axes>"
      ]
     },
     "metadata": {},
     "output_type": "display_data"
    }
   ],
   "source": [
    "sns.histplot(control_revenues_l, binwidth=500)\n",
    "sns.histplot(treatment_revenues_l, binwidth=500)"
   ]
  },
  {
   "cell_type": "code",
   "execution_count": null,
   "id": "a965d458-9ab2-48ec-ae5c-edd6bc2a8a08",
   "metadata": {},
   "outputs": [],
   "source": [
    "#оранжевый график расширен вправо, ЭТО НАГЛЯДНО ДАЕТ ЗНАТЬ ЧТО СРЕДНЯЯ ПРИБЫЛЬ НА ПОЛЬЗОВАТЕЛЯ ВЫРОСЛА"
   ]
  },
  {
   "cell_type": "code",
   "execution_count": 181,
   "id": "d33dcba8",
   "metadata": {},
   "outputs": [
    {
     "data": {
      "text/plain": [
       "<Axes: ylabel='Count'>"
      ]
     },
     "execution_count": 181,
     "metadata": {},
     "output_type": "execute_result"
    },
    {
     "data": {
      "image/png": "[encoded data removed]",
      "text/plain": [
       "<Figure size 1170x827 with 1 Axes>"
      ]
     },
     "metadata": {},
     "output_type": "display_data"
    }
   ],
   "source": [
    "sns.histplot(control_revenues_l, binwidth=500)\n"
   ]
  },
  {
   "cell_type": "code",
   "execution_count": 215,
   "id": "a4fe4803",
   "metadata": {},
   "outputs": [],
   "source": [
    "ds = []\n",
    "\n",
    "for i in range(10_000):\n",
    "    d = random.choices(control_revenues_l, k=len(control_revenues_l))\n",
    "    ds.append(sum(d) / len(d))\n",
    "#СЧИТАЕМ 10 000 СЛУЧАЙНЫХ ВЫБОРОК"
   ]
  },
  {
   "cell_type": "code",
   "execution_count": 216,
   "id": "7c0f7aa5",
   "metadata": {},
   "outputs": [
    {
     "data": {
      "text/plain": [
       "<Axes: ylabel='Count'>"
      ]
     },
     "execution_count": 216,
     "metadata": {},
     "output_type": "execute_result"
    },
    {
     "data": {
      "image/png": "[encoded data removed]",
      "text/plain": [
       "<Figure size 1170x827 with 1 Axes>"
      ]
     },
     "metadata": {},
     "output_type": "display_data"
    }
   ],
   "source": [
    "sns.histplot(ds, bins=50)"
   ]
  },
  {
   "cell_type": "code",
   "execution_count": 217,
   "id": "0309e3e9",
   "metadata": {},
   "outputs": [],
   "source": [
    "from scipy.stats import normaltest\n",
    "# РАСПРЕДЕЛЕНИЕ НОРМАЛЬНОЕ"
   ]
  },
  {
   "cell_type": "code",
   "execution_count": 218,
   "id": "cbf42fe1",
   "metadata": {},
   "outputs": [
    {
     "data": {
      "text/plain": [
       "NormaltestResult(statistic=0.26013607409649503, pvalue=0.8780356899316852)"
      ]
     },
     "execution_count": 218,
     "metadata": {},
     "output_type": "execute_result"
    }
   ],
   "source": [
    "normaltest(ds)\n",
    "#p.value <  5 значит распределние точно нормальное"
   ]
  },
  {
   "cell_type": "code",
   "execution_count": 85,
   "id": "e06ff64c",
   "metadata": {},
   "outputs": [],
   "source": [
    "from scipy.stats import ttest_ind"
   ]
  },
  {
   "cell_type": "markdown",
   "id": "e5e3eb74",
   "metadata": {},
   "source": [
    "[Документация](https://docs.scipy.org/doc/scipy/reference/generated/scipy.stats.ttest_ind.html) t-теста из scipy."
   ]
  },
  {
   "cell_type": "code",
   "execution_count": 86,
   "id": "68b1d9df",
   "metadata": {},
   "outputs": [
    {
     "data": {
      "text/plain": [
       "(4427.101001669449, 2643.119493670886)"
      ]
     },
     "execution_count": 86,
     "metadata": {},
     "output_type": "execute_result"
    }
   ],
   "source": [
    "pd.Series(treatment_revenues_l).mean(), pd.Series(control_revenues_l).mean()\n",
    "#средняя прибыль на человека из В группы на 2 тыс больше чем из А группы"
   ]
  },
  {
   "cell_type": "code",
   "execution_count": 87,
   "id": "5fdcbd4f",
   "metadata": {},
   "outputs": [
    {
     "data": {
      "text/plain": [
       "Ttest_indResult(statistic=24.233967540582896, pvalue=3.363478798853414e-126)"
      ]
     },
     "execution_count": 87,
     "metadata": {},
     "output_type": "execute_result"
    }
   ],
   "source": [
    "ttest_ind(treatment_revenues_l, control_revenues_l, equal_var=False)\n"
   ]
  },
  {
   "cell_type": "markdown",
   "id": "6aa15a12",
   "metadata": {},
   "source": [
    "## 4. Интерпретация результата"
   ]
  },
  {
   "cell_type": "markdown",
   "id": "47a61d3d",
   "metadata": {},
   "source": [
    "### Стало ли больше покупок?"
   ]
  },
  {
   "cell_type": "code",
   "execution_count": null,
   "id": "7af3d152-1b97-47d3-a5c4-c2ee63e427fb",
   "metadata": {},
   "outputs": [],
   "source": [
    "#мы уже поняли что результат положителен, но нужно понять, на что конкретно влияет новый алгоритм рекомендаций"
   ]
  },
  {
   "cell_type": "code",
   "execution_count": 153,
   "id": "df05a76d",
   "metadata": {},
   "outputs": [
    {
     "data": {
      "text/plain": [
       "(5879, 5944)"
      ]
     },
     "execution_count": 153,
     "metadata": {},
     "output_type": "execute_result"
    }
   ],
   "source": [
    "len(treatment_purchases), len(control_purchases)\n",
    "#количество покупок почти одинаковое, сильно разницы нет"
   ]
  },
  {
   "cell_type": "code",
   "execution_count": 154,
   "id": "a4397c04",
   "metadata": {},
   "outputs": [
    {
     "data": {
      "text/plain": [
       "<Axes: xlabel='date_time', ylabel='Count'>"
      ]
     },
     "execution_count": 154,
     "metadata": {},
     "output_type": "execute_result"
    },
    {
     "data": {
      "image/png": "[encoded data removed]",
      "text/plain": [
       "<Figure size 1170x827 with 1 Axes>"
      ]
     },
     "metadata": {},
     "output_type": "display_data"
    }
   ],
   "source": [
    "sns.histplot(treatment_purchases['date_time'].dt.floor('D'), bins=14)"
   ]
  },
  {
   "cell_type": "code",
   "execution_count": 155,
   "id": "8bdb67ad",
   "metadata": {},
   "outputs": [
    {
     "data": {
      "text/plain": [
       "<Axes: xlabel='date_time', ylabel='Count'>"
      ]
     },
     "execution_count": 155,
     "metadata": {},
     "output_type": "execute_result"
    },
    {
     "data": {
      "image/png": "[encoded data removed]",
      "text/plain": [
       "<Figure size 1170x827 with 1 Axes>"
      ]
     },
     "metadata": {},
     "output_type": "display_data"
    }
   ],
   "source": [
    "sns.histplot(control_purchases['date_time'].dt.floor('D'), bins=14)"
   ]
  },
  {
   "cell_type": "code",
   "execution_count": 156,
   "id": "7bd8cd90",
   "metadata": {},
   "outputs": [],
   "source": [
    "treatment_user_purchases = treatment_purchases \\\n",
    "    .groupby('user_id', as_index=False) \\\n",
    "    .agg({'id': 'count'})\n",
    "\n",
    "control_user_purchases = control_purchases \\\n",
    "    .groupby('user_id', as_index=False) \\\n",
    "    .agg({'id': 'count'})\n",
    "#количество уникальных покупок тоже почти не отличается"
   ]
  },
  {
   "cell_type": "code",
   "execution_count": 157,
   "id": "3c49c265",
   "metadata": {},
   "outputs": [
    {
     "data": {
      "text/plain": [
       "<Axes: xlabel='id', ylabel='Count'>"
      ]
     },
     "execution_count": 157,
     "metadata": {},
     "output_type": "execute_result"
    },
    {
     "data": {
      "image/png": "[encoded data removed]",
      "text/plain": [
       "<Figure size 1170x827 with 1 Axes>"
      ]
     },
     "metadata": {},
     "output_type": "display_data"
    }
   ],
   "source": [
    "sns.histplot(treatment_user_purchases['id'])"
   ]
  },
  {
   "cell_type": "code",
   "execution_count": 158,
   "id": "53ad078e",
   "metadata": {},
   "outputs": [
    {
     "data": {
      "text/plain": [
       "1.3643536783476444"
      ]
     },
     "execution_count": 158,
     "metadata": {},
     "output_type": "execute_result"
    }
   ],
   "source": [
    "treatment_user_purchases['id'].mean()"
   ]
  },
  {
   "cell_type": "code",
   "execution_count": 159,
   "id": "81510a68",
   "metadata": {},
   "outputs": [
    {
     "data": {
      "text/plain": [
       "<Axes: xlabel='id', ylabel='Count'>"
      ]
     },
     "execution_count": 159,
     "metadata": {},
     "output_type": "execute_result"
    },
    {
     "data": {
      "image/png": "[encoded data removed]",
      "text/plain": [
       "<Figure size 1170x827 with 1 Axes>"
      ]
     },
     "metadata": {},
     "output_type": "display_data"
    }
   ],
   "source": [
    "sns.histplot(control_user_purchases['id'])"
   ]
  },
  {
   "cell_type": "code",
   "execution_count": 160,
   "id": "2f045316",
   "metadata": {},
   "outputs": [
    {
     "data": {
      "text/plain": [
       "1.3923635511829469"
      ]
     },
     "execution_count": 160,
     "metadata": {},
     "output_type": "execute_result"
    }
   ],
   "source": [
    "control_user_purchases['id'].mean()"
   ]
  },
  {
   "cell_type": "code",
   "execution_count": 219,
   "id": "32b98c7d",
   "metadata": {},
   "outputs": [
    {
     "data": {
      "text/plain": [
       "1.3643536783476444"
      ]
     },
     "execution_count": 219,
     "metadata": {},
     "output_type": "execute_result"
    }
   ],
   "source": [
    "treatment_user_purchases['id'].mean()\n",
    "#среднее число покупок тоже "
   ]
  },
  {
   "cell_type": "markdown",
   "id": "3b24340e",
   "metadata": {},
   "source": [
    "### Стали ли покупать больше товаров?"
   ]
  },
  {
   "cell_type": "code",
   "execution_count": 161,
   "id": "b4fa1093",
   "metadata": {},
   "outputs": [
    {
     "data": {
      "text/html": [
       "<div>\n",
       "<style scoped>\n",
       "    .dataframe tbody tr th:only-of-type {\n",
       "        vertical-align: middle;\n",
       "    }\n",
       "\n",
       "    .dataframe tbody tr th {\n",
       "        vertical-align: top;\n",
       "    }\n",
       "\n",
       "    .dataframe thead th {\n",
       "        text-align: right;\n",
       "    }\n",
       "</style>\n",
       "<table border=\"1\" class=\"dataframe\">\n",
       "  <thead>\n",
       "    <tr style=\"text-align: right;\">\n",
       "      <th></th>\n",
       "      <th>id</th>\n",
       "      <th>user_id</th>\n",
       "      <th>date_time</th>\n",
       "      <th>purchase_id</th>\n",
       "      <th>good_id</th>\n",
       "      <th>amount</th>\n",
       "      <th>was_in_recommended_goods</th>\n",
       "    </tr>\n",
       "  </thead>\n",
       "  <tbody>\n",
       "    <tr>\n",
       "      <th>0</th>\n",
       "      <td>11833</td>\n",
       "      <td>12987</td>\n",
       "      <td>2023-10-01 00:02:30</td>\n",
       "      <td>11833</td>\n",
       "      <td>14</td>\n",
       "      <td>1</td>\n",
       "      <td>False</td>\n",
       "    </tr>\n",
       "    <tr>\n",
       "      <th>1</th>\n",
       "      <td>11833</td>\n",
       "      <td>12987</td>\n",
       "      <td>2023-10-01 00:02:30</td>\n",
       "      <td>11833</td>\n",
       "      <td>11</td>\n",
       "      <td>1</td>\n",
       "      <td>False</td>\n",
       "    </tr>\n",
       "    <tr>\n",
       "      <th>2</th>\n",
       "      <td>11833</td>\n",
       "      <td>12987</td>\n",
       "      <td>2023-10-01 00:02:30</td>\n",
       "      <td>11833</td>\n",
       "      <td>27</td>\n",
       "      <td>1</td>\n",
       "      <td>False</td>\n",
       "    </tr>\n",
       "    <tr>\n",
       "      <th>3</th>\n",
       "      <td>11833</td>\n",
       "      <td>12987</td>\n",
       "      <td>2023-10-01 00:02:30</td>\n",
       "      <td>11833</td>\n",
       "      <td>53</td>\n",
       "      <td>1</td>\n",
       "      <td>False</td>\n",
       "    </tr>\n",
       "    <tr>\n",
       "      <th>4</th>\n",
       "      <td>11836</td>\n",
       "      <td>4791</td>\n",
       "      <td>2023-10-01 00:07:04</td>\n",
       "      <td>11836</td>\n",
       "      <td>88</td>\n",
       "      <td>1</td>\n",
       "      <td>False</td>\n",
       "    </tr>\n",
       "    <tr>\n",
       "      <th>...</th>\n",
       "      <td>...</td>\n",
       "      <td>...</td>\n",
       "      <td>...</td>\n",
       "      <td>...</td>\n",
       "      <td>...</td>\n",
       "      <td>...</td>\n",
       "      <td>...</td>\n",
       "    </tr>\n",
       "    <tr>\n",
       "      <th>44662</th>\n",
       "      <td>26721</td>\n",
       "      <td>9557</td>\n",
       "      <td>2023-10-14 23:58:28</td>\n",
       "      <td>26721</td>\n",
       "      <td>27</td>\n",
       "      <td>1</td>\n",
       "      <td>False</td>\n",
       "    </tr>\n",
       "    <tr>\n",
       "      <th>44663</th>\n",
       "      <td>26721</td>\n",
       "      <td>9557</td>\n",
       "      <td>2023-10-14 23:58:28</td>\n",
       "      <td>26721</td>\n",
       "      <td>73</td>\n",
       "      <td>1</td>\n",
       "      <td>True</td>\n",
       "    </tr>\n",
       "    <tr>\n",
       "      <th>44664</th>\n",
       "      <td>26721</td>\n",
       "      <td>9557</td>\n",
       "      <td>2023-10-14 23:58:28</td>\n",
       "      <td>26721</td>\n",
       "      <td>6</td>\n",
       "      <td>1</td>\n",
       "      <td>True</td>\n",
       "    </tr>\n",
       "    <tr>\n",
       "      <th>44665</th>\n",
       "      <td>26721</td>\n",
       "      <td>9557</td>\n",
       "      <td>2023-10-14 23:58:28</td>\n",
       "      <td>26721</td>\n",
       "      <td>37</td>\n",
       "      <td>1</td>\n",
       "      <td>True</td>\n",
       "    </tr>\n",
       "    <tr>\n",
       "      <th>44666</th>\n",
       "      <td>26721</td>\n",
       "      <td>9557</td>\n",
       "      <td>2023-10-14 23:58:28</td>\n",
       "      <td>26721</td>\n",
       "      <td>47</td>\n",
       "      <td>1</td>\n",
       "      <td>True</td>\n",
       "    </tr>\n",
       "  </tbody>\n",
       "</table>\n",
       "<p>44667 rows × 7 columns</p>\n",
       "</div>"
      ],
      "text/plain": [
       "          id  user_id           date_time  purchase_id  good_id  amount  \\\n",
       "0      11833    12987 2023-10-01 00:02:30        11833       14       1   \n",
       "1      11833    12987 2023-10-01 00:02:30        11833       11       1   \n",
       "2      11833    12987 2023-10-01 00:02:30        11833       27       1   \n",
       "3      11833    12987 2023-10-01 00:02:30        11833       53       1   \n",
       "4      11836     4791 2023-10-01 00:07:04        11836       88       1   \n",
       "...      ...      ...                 ...          ...      ...     ...   \n",
       "44662  26721     9557 2023-10-14 23:58:28        26721       27       1   \n",
       "44663  26721     9557 2023-10-14 23:58:28        26721       73       1   \n",
       "44664  26721     9557 2023-10-14 23:58:28        26721        6       1   \n",
       "44665  26721     9557 2023-10-14 23:58:28        26721       37       1   \n",
       "44666  26721     9557 2023-10-14 23:58:28        26721       47       1   \n",
       "\n",
       "       was_in_recommended_goods  \n",
       "0                         False  \n",
       "1                         False  \n",
       "2                         False  \n",
       "3                         False  \n",
       "4                         False  \n",
       "...                         ...  \n",
       "44662                     False  \n",
       "44663                      True  \n",
       "44664                      True  \n",
       "44665                      True  \n",
       "44666                      True  \n",
       "\n",
       "[44667 rows x 7 columns]"
      ]
     },
     "execution_count": 161,
     "metadata": {},
     "output_type": "execute_result"
    }
   ],
   "source": [
    "treatment_purchases \\\n",
    "    .merge(purchase_good, left_on='id', right_on='purchase_id')"
   ]
  },
  {
   "cell_type": "code",
   "execution_count": 162,
   "id": "454941e3",
   "metadata": {},
   "outputs": [
    {
     "data": {
      "text/plain": [
       "7.597720700799456"
      ]
     },
     "execution_count": 162,
     "metadata": {},
     "output_type": "execute_result"
    }
   ],
   "source": [
    "treatment_purchases \\\n",
    "    .merge(purchase_good, left_on='id', right_on='purchase_id') \\\n",
    "    .groupby('purchase_id', as_index=False) \\\n",
    "    .agg({'good_id': 'count'}) \\\n",
    "    ['good_id'].mean()\n"
   ]
  },
  {
   "cell_type": "code",
   "execution_count": 163,
   "id": "50f2ea4f",
   "metadata": {},
   "outputs": [
    {
     "data": {
      "text/plain": [
       "4.425302826379542"
      ]
     },
     "execution_count": 163,
     "metadata": {},
     "output_type": "execute_result"
    }
   ],
   "source": [
    "control_purchases \\\n",
    "    .merge(purchase_good, left_on='id', right_on='purchase_id') \\\n",
    "    .groupby('purchase_id', as_index=False) \\\n",
    "    .agg({'good_id': 'count'}) \\\n",
    "    ['good_id'].mean()"
   ]
  },
  {
   "cell_type": "code",
   "execution_count": null,
   "id": "bf768ca6-2a7b-47c2-865c-06e4aeb41fd1",
   "metadata": {},
   "outputs": [],
   "source": [
    "#но в каждой покупке в среднем на 3 товара больше => на это и повлиял наш алгоритм"
   ]
  },
  {
   "cell_type": "code",
   "execution_count": 164,
   "id": "74aee876",
   "metadata": {},
   "outputs": [
    {
     "data": {
      "text/html": [
       "<div>\n",
       "<style scoped>\n",
       "    .dataframe tbody tr th:only-of-type {\n",
       "        vertical-align: middle;\n",
       "    }\n",
       "\n",
       "    .dataframe tbody tr th {\n",
       "        vertical-align: top;\n",
       "    }\n",
       "\n",
       "    .dataframe thead th {\n",
       "        text-align: right;\n",
       "    }\n",
       "</style>\n",
       "<table border=\"1\" class=\"dataframe\">\n",
       "  <thead>\n",
       "    <tr style=\"text-align: right;\">\n",
       "      <th></th>\n",
       "      <th>user_id</th>\n",
       "      <th>good_id</th>\n",
       "    </tr>\n",
       "  </thead>\n",
       "  <tbody>\n",
       "    <tr>\n",
       "      <th>0</th>\n",
       "      <td>2</td>\n",
       "      <td>13.0</td>\n",
       "    </tr>\n",
       "    <tr>\n",
       "      <th>1</th>\n",
       "      <td>6</td>\n",
       "      <td>1.0</td>\n",
       "    </tr>\n",
       "    <tr>\n",
       "      <th>2</th>\n",
       "      <td>10</td>\n",
       "      <td>7.0</td>\n",
       "    </tr>\n",
       "    <tr>\n",
       "      <th>3</th>\n",
       "      <td>12</td>\n",
       "      <td>1.0</td>\n",
       "    </tr>\n",
       "    <tr>\n",
       "      <th>4</th>\n",
       "      <td>13</td>\n",
       "      <td>7.0</td>\n",
       "    </tr>\n",
       "    <tr>\n",
       "      <th>...</th>\n",
       "      <td>...</td>\n",
       "      <td>...</td>\n",
       "    </tr>\n",
       "    <tr>\n",
       "      <th>4304</th>\n",
       "      <td>14988</td>\n",
       "      <td>3.0</td>\n",
       "    </tr>\n",
       "    <tr>\n",
       "      <th>4305</th>\n",
       "      <td>14994</td>\n",
       "      <td>4.0</td>\n",
       "    </tr>\n",
       "    <tr>\n",
       "      <th>4306</th>\n",
       "      <td>14996</td>\n",
       "      <td>4.0</td>\n",
       "    </tr>\n",
       "    <tr>\n",
       "      <th>4307</th>\n",
       "      <td>14998</td>\n",
       "      <td>12.0</td>\n",
       "    </tr>\n",
       "    <tr>\n",
       "      <th>4308</th>\n",
       "      <td>15000</td>\n",
       "      <td>9.0</td>\n",
       "    </tr>\n",
       "  </tbody>\n",
       "</table>\n",
       "<p>4309 rows × 2 columns</p>\n",
       "</div>"
      ],
      "text/plain": [
       "      user_id  good_id\n",
       "0           2     13.0\n",
       "1           6      1.0\n",
       "2          10      7.0\n",
       "3          12      1.0\n",
       "4          13      7.0\n",
       "...       ...      ...\n",
       "4304    14988      3.0\n",
       "4305    14994      4.0\n",
       "4306    14996      4.0\n",
       "4307    14998     12.0\n",
       "4308    15000      9.0\n",
       "\n",
       "[4309 rows x 2 columns]"
      ]
     },
     "execution_count": 164,
     "metadata": {},
     "output_type": "execute_result"
    }
   ],
   "source": [
    "treatment_purchases \\\n",
    "    .merge(purchase_good, left_on='id', right_on='purchase_id') \\\n",
    "    .groupby(['purchase_id', 'user_id'], as_index=False) \\\n",
    "    .agg({'good_id': 'count'}) \\\n",
    "    .groupby('user_id', as_index=False) \\\n",
    "    .agg({'good_id': 'mean'})"
   ]
  },
  {
   "cell_type": "code",
   "execution_count": 165,
   "id": "a18620fa",
   "metadata": {},
   "outputs": [],
   "source": [
    "treatment_user_goods = treatment_purchases \\\n",
    "    .merge(purchase_good, left_on='id', right_on='purchase_id') \\\n",
    "    .groupby(['purchase_id', 'user_id'], as_index=False) \\\n",
    "    .agg({'good_id': 'count'}) \\\n",
    "    .groupby('user_id', as_index=False) \\\n",
    "    .agg({'good_id': 'mean'})\n",
    "\n",
    "control_user_goods = control_purchases \\\n",
    "    .merge(purchase_good, left_on='id', right_on='purchase_id') \\\n",
    "    .groupby(['purchase_id', 'user_id'], as_index=False) \\\n",
    "    .agg({'good_id': 'count'}) \\\n",
    "    .groupby('user_id', as_index=False) \\\n",
    "    .agg({'good_id': 'mean'})"
   ]
  },
  {
   "cell_type": "code",
   "execution_count": 166,
   "id": "1485ef9d",
   "metadata": {},
   "outputs": [
    {
     "data": {
      "text/plain": [
       "(7.621528583584745, 4.408995080815179)"
      ]
     },
     "execution_count": 166,
     "metadata": {},
     "output_type": "execute_result"
    }
   ],
   "source": [
    "treatment_user_goods['good_id'].mean(), control_user_goods['good_id'].mean()"
   ]
  },
  {
   "cell_type": "code",
   "execution_count": 167,
   "id": "5c7ded0e",
   "metadata": {},
   "outputs": [
    {
     "data": {
      "text/plain": [
       "22.0"
      ]
     },
     "execution_count": 167,
     "metadata": {},
     "output_type": "execute_result"
    }
   ],
   "source": [
    "control_user_goods['good_id'].max() - control_user_goods['good_id'].min()"
   ]
  },
  {
   "cell_type": "code",
   "execution_count": 168,
   "id": "e3f5b281",
   "metadata": {},
   "outputs": [
    {
     "data": {
      "text/plain": [
       "<Axes: xlabel='good_id', ylabel='Count'>"
      ]
     },
     "execution_count": 168,
     "metadata": {},
     "output_type": "execute_result"
    },
    {
     "data": {
      "image/png": "[encoded data removed]",
      "text/plain": [
       "<Figure size 1170x827 with 1 Axes>"
      ]
     },
     "metadata": {},
     "output_type": "display_data"
    }
   ],
   "source": [
    "sns.histplot(control_user_goods['good_id'], binwidth=1)\n",
    "sns.histplot(treatment_user_goods['good_id'], binwidth=1)"
   ]
  },
  {
   "cell_type": "markdown",
   "id": "12f4abc9",
   "metadata": {},
   "source": [
    "### Стали ли покупать больше товаров из рекомендаций?"
   ]
  },
  {
   "cell_type": "code",
   "execution_count": 169,
   "id": "a0e1cc2a",
   "metadata": {},
   "outputs": [
    {
     "data": {
      "text/html": [
       "<div>\n",
       "<style scoped>\n",
       "    .dataframe tbody tr th:only-of-type {\n",
       "        vertical-align: middle;\n",
       "    }\n",
       "\n",
       "    .dataframe tbody tr th {\n",
       "        vertical-align: top;\n",
       "    }\n",
       "\n",
       "    .dataframe thead th {\n",
       "        text-align: right;\n",
       "    }\n",
       "</style>\n",
       "<table border=\"1\" class=\"dataframe\">\n",
       "  <thead>\n",
       "    <tr style=\"text-align: right;\">\n",
       "      <th></th>\n",
       "      <th>purchase_id</th>\n",
       "      <th>good_id</th>\n",
       "      <th>amount</th>\n",
       "      <th>was_in_recommended_goods</th>\n",
       "    </tr>\n",
       "  </thead>\n",
       "  <tbody>\n",
       "    <tr>\n",
       "      <th>0</th>\n",
       "      <td>15495</td>\n",
       "      <td>34</td>\n",
       "      <td>2</td>\n",
       "      <td>False</td>\n",
       "    </tr>\n",
       "    <tr>\n",
       "      <th>1</th>\n",
       "      <td>42640</td>\n",
       "      <td>48</td>\n",
       "      <td>1</td>\n",
       "      <td>False</td>\n",
       "    </tr>\n",
       "    <tr>\n",
       "      <th>2</th>\n",
       "      <td>42640</td>\n",
       "      <td>36</td>\n",
       "      <td>1</td>\n",
       "      <td>False</td>\n",
       "    </tr>\n",
       "    <tr>\n",
       "      <th>3</th>\n",
       "      <td>42640</td>\n",
       "      <td>12</td>\n",
       "      <td>2</td>\n",
       "      <td>True</td>\n",
       "    </tr>\n",
       "    <tr>\n",
       "      <th>4</th>\n",
       "      <td>42640</td>\n",
       "      <td>35</td>\n",
       "      <td>1</td>\n",
       "      <td>True</td>\n",
       "    </tr>\n",
       "    <tr>\n",
       "      <th>...</th>\n",
       "      <td>...</td>\n",
       "      <td>...</td>\n",
       "      <td>...</td>\n",
       "      <td>...</td>\n",
       "    </tr>\n",
       "    <tr>\n",
       "      <th>352052</th>\n",
       "      <td>53057</td>\n",
       "      <td>54</td>\n",
       "      <td>1</td>\n",
       "      <td>False</td>\n",
       "    </tr>\n",
       "    <tr>\n",
       "      <th>352053</th>\n",
       "      <td>72053</td>\n",
       "      <td>37</td>\n",
       "      <td>1</td>\n",
       "      <td>False</td>\n",
       "    </tr>\n",
       "    <tr>\n",
       "      <th>352054</th>\n",
       "      <td>72053</td>\n",
       "      <td>7</td>\n",
       "      <td>1</td>\n",
       "      <td>False</td>\n",
       "    </tr>\n",
       "    <tr>\n",
       "      <th>352055</th>\n",
       "      <td>72053</td>\n",
       "      <td>24</td>\n",
       "      <td>1</td>\n",
       "      <td>True</td>\n",
       "    </tr>\n",
       "    <tr>\n",
       "      <th>352056</th>\n",
       "      <td>72053</td>\n",
       "      <td>50</td>\n",
       "      <td>1</td>\n",
       "      <td>False</td>\n",
       "    </tr>\n",
       "  </tbody>\n",
       "</table>\n",
       "<p>352057 rows × 4 columns</p>\n",
       "</div>"
      ],
      "text/plain": [
       "        purchase_id  good_id  amount  was_in_recommended_goods\n",
       "0             15495       34       2                     False\n",
       "1             42640       48       1                     False\n",
       "2             42640       36       1                     False\n",
       "3             42640       12       2                      True\n",
       "4             42640       35       1                      True\n",
       "...             ...      ...     ...                       ...\n",
       "352052        53057       54       1                     False\n",
       "352053        72053       37       1                     False\n",
       "352054        72053        7       1                     False\n",
       "352055        72053       24       1                      True\n",
       "352056        72053       50       1                     False\n",
       "\n",
       "[352057 rows x 4 columns]"
      ]
     },
     "execution_count": 169,
     "metadata": {},
     "output_type": "execute_result"
    }
   ],
   "source": [
    "purchase_good"
   ]
  },
  {
   "cell_type": "code",
   "execution_count": 170,
   "id": "4f7900d4",
   "metadata": {},
   "outputs": [
    {
     "data": {
      "text/plain": [
       "0.4482056104058925"
      ]
     },
     "execution_count": 170,
     "metadata": {},
     "output_type": "execute_result"
    }
   ],
   "source": [
    "treatment_purchases \\\n",
    "    .merge(purchase_good, left_on='id', right_on='purchase_id') \\\n",
    "    ['was_in_recommended_goods'].mean()\n"
   ]
  },
  {
   "cell_type": "code",
   "execution_count": 171,
   "id": "8f590b41",
   "metadata": {},
   "outputs": [
    {
     "data": {
      "text/plain": [
       "0.30003041362530414"
      ]
     },
     "execution_count": 171,
     "metadata": {},
     "output_type": "execute_result"
    }
   ],
   "source": [
    "control_purchases \\\n",
    "    .merge(purchase_good, left_on='id', right_on='purchase_id') \\\n",
    "    ['was_in_recommended_goods'].mean()"
   ]
  },
  {
   "cell_type": "code",
   "execution_count": null,
   "id": "faf8018d-3b29-4740-b0e3-b006b8c24e99",
   "metadata": {},
   "outputs": [],
   "source": [
    "#среднее % товаров куленных по рекомендации вырос в 1.5 раза (победа)"
   ]
  },
  {
   "cell_type": "code",
   "execution_count": 172,
   "id": "5a6cbdaa",
   "metadata": {},
   "outputs": [],
   "source": [
    "treatment_recommended_purchases = treatment_purchases \\\n",
    "    .merge(purchase_good, left_on='id', right_on='purchase_id') \\\n",
    "    .groupby(['user_id'], as_index=False) \\\n",
    "    .agg({'was_in_recommended_goods': 'mean'})\n",
    "\n",
    "control_recommended_purchases = control_purchases \\\n",
    "    .merge(purchase_good, left_on='id', right_on='purchase_id') \\\n",
    "    .groupby(['user_id'], as_index=False) \\\n",
    "    .agg({'was_in_recommended_goods': 'mean'})"
   ]
  },
  {
   "cell_type": "code",
   "execution_count": 173,
   "id": "a0b5359d",
   "metadata": {},
   "outputs": [
    {
     "data": {
      "text/plain": [
       "(0.4501345936177547, 0.2970048135612763)"
      ]
     },
     "execution_count": 173,
     "metadata": {},
     "output_type": "execute_result"
    }
   ],
   "source": [
    "treatment_recommended_purchases['was_in_recommended_goods'].mean(), \\\n",
    "    control_recommended_purchases['was_in_recommended_goods'].mean()"
   ]
  },
  {
   "cell_type": "code",
   "execution_count": 174,
   "id": "95891bc4",
   "metadata": {},
   "outputs": [
    {
     "data": {
      "text/plain": [
       "<Axes: xlabel='was_in_recommended_goods', ylabel='Count'>"
      ]
     },
     "execution_count": 174,
     "metadata": {},
     "output_type": "execute_result"
    },
    {
     "data": {
      "image/png": "[encoded data removed]",
      "text/plain": [
       "<Figure size 1170x827 with 1 Axes>"
      ]
     },
     "metadata": {},
     "output_type": "display_data"
    }
   ],
   "source": [
    "sns.histplot(control_recommended_purchases['was_in_recommended_goods'], binwidth=0.1)\n",
    "sns.histplot(treatment_recommended_purchases['was_in_recommended_goods'], binwidth=0.1)"
   ]
  },
  {
   "cell_type": "code",
   "execution_count": 1,
   "id": "8882cbd2",
   "metadata": {},
   "outputs": [],
   "source": [
    "#ИТОГ: НОВЫЙ АЛГОРИТМ ЛУШЧЕ СТАРОГО"
   ]
  },
  {
   "cell_type": "code",
   "execution_count": 5,
   "id": "35468384-fea8-48c8-9add-0cbc2e0f8b03",
   "metadata": {},
   "outputs": [
    {
     "ename": "NameError",
     "evalue": "name 'git' is not defined",
     "output_type": "error",
     "traceback": [
      "\u001b[1;31m---------------------------------------------------------------------------\u001b[0m",
      "\u001b[1;31mNameError\u001b[0m                                 Traceback (most recent call last)",
      "Cell \u001b[1;32mIn[5], line 1\u001b[0m\n\u001b[1;32m----> 1\u001b[0m \u001b[43mgit\u001b[49m\n",
      "\u001b[1;31mNameError\u001b[0m: name 'git' is not defined"
     ]
    }
   ],
   "source": []
  },
  {
   "cell_type": "code",
   "execution_count": null,
   "id": "0ee38ae6-b922-4429-b2d8-281b2a961c83",
   "metadata": {},
   "outputs": [],
   "source": []
  }
 ],
 "metadata": {
  "kernelspec": {
   "display_name": "Python 3 (ipykernel)",
   "language": "python",
   "name": "python3"
  },
  "language_info": {
   "codemirror_mode": {
    "name": "ipython",
    "version": 3
   },
   "file_extension": ".py",
   "mimetype": "text/x-python",
   "name": "python",
   "nbconvert_exporter": "python",
   "pygments_lexer": "ipython3",
   "version": "3.11.5"
  }
 },
 "nbformat": 4,
 "nbformat_minor": 5
}
